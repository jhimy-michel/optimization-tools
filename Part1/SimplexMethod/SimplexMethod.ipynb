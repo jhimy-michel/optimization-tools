{
 "cells": [
  {
   "cell_type": "code",
   "execution_count": 241,
   "id": "ac5e06ec-0685-4d28-aaef-de9d91575712",
   "metadata": {},
   "outputs": [
    {
     "data": {
      "image/png": "[encoded data removed]",
      "text/plain": [
       "<Figure size 864x648 with 1 Axes>"
      ]
     },
     "metadata": {
      "needs_background": "light"
     },
     "output_type": "display_data"
    }
   ],
   "source": [
    "import matplotlib.pyplot as plt\n",
    "import numpy as np\n",
    "from IPython.display import Math\n",
    "\n",
    "from printUtils import getLatex\n",
    "\n",
    "np.set_printoptions(precision=2)\n",
    "plt.figure(figsize=(12, 9))\n",
    "\n",
    "x1 = np.linspace(0, 5, 100)\n",
    "xaux = np.linspace(-2, 5, 100)\n",
    "\n",
    "x2 = x1 + 1\n",
    "x3 = (2 - x1)/2\n",
    "x4 = 0*x1 + 2\n",
    "x5 = 0*x1\n",
    "x6 = 0*x1 + 3\n",
    "\n",
    "colors = ['b','g','r','c','m','y','k',]\n",
    "# ‘b’\tblue\n",
    "# ‘g’\tgreen\n",
    "# ‘r’\tred\n",
    "# ‘c’\tcyan\n",
    "# ‘m’\tmagenta\n",
    "# ‘y’\tyellow\n",
    "# ‘k’\tblack\n",
    "# ‘w’\twhite\n",
    "\n",
    "plt.plot(x1, x2, 'r', label='-x1+x2=1')\n",
    "plt.plot(x1, x3, 'g', label='x1+x2=2')\n",
    "plt.plot(x1, x4, 'b', label='x2=2')\n",
    "plt.plot(x1, x5, 'y', label='x2=0')\n",
    "plt.plot(x6, xaux, 'm', label='x1=3')\n",
    "\n",
    "plt.title('Graph')\n",
    "plt.xlabel('x1', color='#1C2833')\n",
    "plt.ylabel('x2', color='#1C2833')\n",
    "plt.legend(loc='upper left')\n",
    "\n",
    "\n",
    "plt.grid()\n",
    "plt.show()\n"
   ]
  },
  {
   "cell_type": "code",
   "execution_count": 242,
   "id": "ae4f4821-d407-4417-bf42-e9420514fdbc",
   "metadata": {},
   "outputs": [],
   "source": [
    "# Load matrix values\n",
    "# Matrix A, b and c\n",
    "# vertex\n",
    "colors = ['b', 'g', 'r', 'c', 'm', 'y', 'k', 'w']\n",
    "A = np.array([\n",
    "    [-1, -2],  # vector 1\n",
    "    [-1, 1],  # vector 2\n",
    "    [1, 0],  # vector 3\n",
    "    [0, 1],  # vector 4\n",
    "    [0, -1],  # vector 5\n",
    "])\n",
    "\n",
    "\n",
    "b = np.array([\n",
    "    [-2],\n",
    "    [1],\n",
    "    [3],\n",
    "    [2],\n",
    "    [0]\n",
    "])\n",
    "\n",
    "# objective function\n",
    "c = np.array([\n",
    "    [-3, -1]\n",
    "])\n",
    "\n",
    "vertex = (2, 0)  # \"initial vertex\"\n",
    "\n",
    "# vertex is the intersection of vector 1 and vector 2\n",
    "# Important! always select in ascendent order\n",
    "# B = {1,2} is okay, but B={2,1} not good\n",
    "B = (1, 5)\n"
   ]
  },
  {
   "cell_type": "code",
   "execution_count": 243,
   "id": "8f00533d-5c86-4625-9f5e-059b75ba2458",
   "metadata": {},
   "outputs": [
    {
     "data": {
      "text/latex": [
       "$\\displaystyle \\ A = \\begin{bmatrix} \n",
       " -1.00 & -2.00 & \\\\ -1.00 & 1.00 & \\\\ 1.00 & 0.00 & \\\\ 0.00 & 1.00 & \\\\ 0.00 & -1.00 & \\\\\\end{bmatrix}$"
      ],
      "text/plain": [
       "<IPython.core.display.Math object>"
      ]
     },
     "metadata": {},
     "output_type": "display_data"
    },
    {
     "data": {
      "text/latex": [
       "$\\displaystyle \\ b = \\begin{bmatrix} \n",
       " -2.00 & \\\\ 1.00 & \\\\ 3.00 & \\\\ 2.00 & \\\\ 0.00 & \\\\\\end{bmatrix}$"
      ],
      "text/plain": [
       "<IPython.core.display.Math object>"
      ]
     },
     "metadata": {},
     "output_type": "display_data"
    },
    {
     "data": {
      "text/latex": [
       "$\\displaystyle \\ Objective Function: c = \\begin{bmatrix} \n",
       " -3.00 & -1.00 & \\\\\\end{bmatrix}$"
      ],
      "text/plain": [
       "<IPython.core.display.Math object>"
      ]
     },
     "metadata": {},
     "output_type": "display_data"
    },
    {
     "data": {
      "text/latex": [
       "$\\displaystyle \\ \\hspace{1cm}$"
      ],
      "text/plain": [
       "<IPython.core.display.Math object>"
      ]
     },
     "metadata": {},
     "output_type": "display_data"
    },
    {
     "data": {
      "text/latex": [
       "$\\displaystyle \\textbf{Iteration Number: \n",
       "1}$"
      ],
      "text/plain": [
       "<IPython.core.display.Math object>"
      ]
     },
     "metadata": {},
     "output_type": "display_data"
    },
    {
     "data": {
      "text/latex": [
       "$\\displaystyle \\ A_B = \\begin{bmatrix} \n",
       " -1.00 & -2.00 & \\\\ 0.00 & -1.00 & \\\\\\end{bmatrix}$"
      ],
      "text/plain": [
       "<IPython.core.display.Math object>"
      ]
     },
     "metadata": {},
     "output_type": "display_data"
    },
    {
     "data": {
      "text/latex": [
       "$\\displaystyle \\ b_B = \\begin{bmatrix} \n",
       " -2.00 & \\\\ 0.00 & \\\\\\end{bmatrix}$"
      ],
      "text/plain": [
       "<IPython.core.display.Math object>"
      ]
     },
     "metadata": {},
     "output_type": "display_data"
    },
    {
     "name": "stdout",
     "output_type": "stream",
     "text": [
      "A inverse: \n"
     ]
    },
    {
     "data": {
      "text/latex": [
       "$\\displaystyle \\ A^-1_B = \\begin{bmatrix} \n",
       " -1.00 & 2.00 & \\\\ 0.00 & -1.00 & \\\\\\end{bmatrix}$"
      ],
      "text/plain": [
       "<IPython.core.display.Math object>"
      ]
     },
     "metadata": {},
     "output_type": "display_data"
    },
    {
     "data": {
      "text/latex": [
       "$\\displaystyle \\textbf{ Associated feasible solutions: }$"
      ],
      "text/plain": [
       "<IPython.core.display.Math object>"
      ]
     },
     "metadata": {},
     "output_type": "display_data"
    },
    {
     "data": {
      "text/latex": [
       "$\\displaystyle \\ A^-1_B * b_B = v = \\begin{bmatrix} \n",
       " 2.00 & \\\\ 0.00 & \\\\\\end{bmatrix}$"
      ],
      "text/plain": [
       "<IPython.core.display.Math object>"
      ]
     },
     "metadata": {},
     "output_type": "display_data"
    },
    {
     "data": {
      "text/latex": [
       "$\\displaystyle \\textbf{ Reduced costs }$"
      ],
      "text/plain": [
       "<IPython.core.display.Math object>"
      ]
     },
     "metadata": {},
     "output_type": "display_data"
    },
    {
     "data": {
      "text/latex": [
       "$\\displaystyle \\ u = \\begin{bmatrix} \n",
       " 3.00 & -5.00 & \\\\\\end{bmatrix}$"
      ],
      "text/plain": [
       "<IPython.core.display.Math object>"
      ]
     },
     "metadata": {},
     "output_type": "display_data"
    },
    {
     "data": {
      "text/latex": [
       "$\\displaystyle \\textbf{Negative numbers detected: \n",
       "True}$"
      ],
      "text/plain": [
       "<IPython.core.display.Math object>"
      ]
     },
     "metadata": {},
     "output_type": "display_data"
    },
    {
     "data": {
      "text/latex": [
       "$\\displaystyle \\text{ j : \n",
       "5}$"
      ],
      "text/plain": [
       "<IPython.core.display.Math object>"
      ]
     },
     "metadata": {},
     "output_type": "display_data"
    },
    {
     "data": {
      "text/latex": [
       "$\\displaystyle \\ d = \\begin{bmatrix} \n",
       " -2.00 & \\\\ 1.00 & \\\\\\end{bmatrix}$"
      ],
      "text/plain": [
       "<IPython.core.display.Math object>"
      ]
     },
     "metadata": {},
     "output_type": "display_data"
    },
    {
     "data": {
      "text/latex": [
       "$\\displaystyle \\textbf{ Calculate:  lambda * d <= b - A * v}$"
      ],
      "text/plain": [
       "<IPython.core.display.Math object>"
      ]
     },
     "metadata": {},
     "output_type": "display_data"
    },
    {
     "data": {
      "text/latex": [
       "$\\displaystyle \\lambda * \\begin{bmatrix} \n",
       " 0.00 & \\\\ 3.00 & \\\\ -2.00 & \\\\ 1.00 & \\\\ -1.00 & \\\\\\end{bmatrix} = \\begin{bmatrix} \n",
       " 0.00 & \\\\ 3.00 & \\\\ 1.00 & \\\\ 2.00 & \\\\ 0.00 & \\\\ \\end{bmatrix}$"
      ],
      "text/plain": [
       "<IPython.core.display.Math object>"
      ]
     },
     "metadata": {},
     "output_type": "display_data"
    },
    {
     "name": "stdout",
     "output_type": "stream",
     "text": [
      "partial cal:  1.0\n",
      "partial cal:  2.0\n",
      "##########################\n",
      "minIndex:  1\n"
     ]
    },
    {
     "data": {
      "text/latex": [
       "$\\displaystyle \\ k : \n",
       "2$"
      ],
      "text/plain": [
       "<IPython.core.display.Math object>"
      ]
     },
     "metadata": {},
     "output_type": "display_data"
    },
    {
     "name": "stdout",
     "output_type": "stream",
     "text": [
      "lambda_val value:  1.0\n"
     ]
    },
    {
     "data": {
      "text/latex": [
       "$\\displaystyle \\lambda : \n",
       "1.0$"
      ],
      "text/plain": [
       "<IPython.core.display.Math object>"
      ]
     },
     "metadata": {},
     "output_type": "display_data"
    },
    {
     "name": "stdout",
     "output_type": "stream",
     "text": [
      "u:  [[ 3. -5.]]\n",
      "index of min:  1\n",
      "B:  (1, 5)\n"
     ]
    },
    {
     "data": {
      "text/latex": [
       "$\\displaystyle \\text{ B = (\n",
       "1 , \n",
       "5 ) }$"
      ],
      "text/plain": [
       "<IPython.core.display.Math object>"
      ]
     },
     "metadata": {},
     "output_type": "display_data"
    },
    {
     "name": "stdout",
     "output_type": "stream",
     "text": [
      "B:  [1, 5]\n",
      "B:  (1, 2)\n"
     ]
    },
    {
     "data": {
      "text/latex": [
       "$\\displaystyle \\text{ B = (\n",
       "1 , \n",
       "2) }$"
      ],
      "text/plain": [
       "<IPython.core.display.Math object>"
      ]
     },
     "metadata": {},
     "output_type": "display_data"
    },
    {
     "data": {
      "text/latex": [
       "$\\displaystyle \\textbf{Iteration Number: \n",
       "2}$"
      ],
      "text/plain": [
       "<IPython.core.display.Math object>"
      ]
     },
     "metadata": {},
     "output_type": "display_data"
    },
    {
     "data": {
      "text/latex": [
       "$\\displaystyle \\ A_B = \\begin{bmatrix} \n",
       " -1.00 & -2.00 & \\\\ -1.00 & 1.00 & \\\\\\end{bmatrix}$"
      ],
      "text/plain": [
       "<IPython.core.display.Math object>"
      ]
     },
     "metadata": {},
     "output_type": "display_data"
    },
    {
     "data": {
      "text/latex": [
       "$\\displaystyle \\ b_B = \\begin{bmatrix} \n",
       " -2.00 & \\\\ 1.00 & \\\\\\end{bmatrix}$"
      ],
      "text/plain": [
       "<IPython.core.display.Math object>"
      ]
     },
     "metadata": {},
     "output_type": "display_data"
    },
    {
     "name": "stdout",
     "output_type": "stream",
     "text": [
      "A inverse: \n"
     ]
    },
    {
     "data": {
      "text/latex": [
       "$\\displaystyle \\ A^-1_B = \\begin{bmatrix} \n",
       " -0.33 & -0.67 & \\\\ -0.33 & 0.33 & \\\\\\end{bmatrix}$"
      ],
      "text/plain": [
       "<IPython.core.display.Math object>"
      ]
     },
     "metadata": {},
     "output_type": "display_data"
    },
    {
     "data": {
      "text/latex": [
       "$\\displaystyle \\textbf{ Associated feasible solutions: }$"
      ],
      "text/plain": [
       "<IPython.core.display.Math object>"
      ]
     },
     "metadata": {},
     "output_type": "display_data"
    },
    {
     "data": {
      "text/latex": [
       "$\\displaystyle \\ A^-1_B * b_B = v = \\begin{bmatrix} \n",
       " 0.00 & \\\\ 1.00 & \\\\\\end{bmatrix}$"
      ],
      "text/plain": [
       "<IPython.core.display.Math object>"
      ]
     },
     "metadata": {},
     "output_type": "display_data"
    },
    {
     "data": {
      "text/latex": [
       "$\\displaystyle \\textbf{ Reduced costs }$"
      ],
      "text/plain": [
       "<IPython.core.display.Math object>"
      ]
     },
     "metadata": {},
     "output_type": "display_data"
    },
    {
     "data": {
      "text/latex": [
       "$\\displaystyle \\ u = \\begin{bmatrix} \n",
       " 1.33 & 1.67 & \\\\\\end{bmatrix}$"
      ],
      "text/plain": [
       "<IPython.core.display.Math object>"
      ]
     },
     "metadata": {},
     "output_type": "display_data"
    },
    {
     "data": {
      "text/latex": [
       "$\\displaystyle \\textbf{Negative numbers detected: \n",
       "False}$"
      ],
      "text/plain": [
       "<IPython.core.display.Math object>"
      ]
     },
     "metadata": {},
     "output_type": "display_data"
    },
    {
     "data": {
      "text/latex": [
       "$\\displaystyle \\textbf{ All elements in u are positive, stop the execution! }$"
      ],
      "text/plain": [
       "<IPython.core.display.Math object>"
      ]
     },
     "metadata": {},
     "output_type": "display_data"
    }
   ],
   "source": [
    "# Running iterations\n",
    "\n",
    "display(Math('\\\\ A = \\\\begin{bmatrix} \\n%s\\end{bmatrix}' % getLatex(A)))\n",
    "display(Math('\\\\ b = \\\\begin{bmatrix} \\n%s\\end{bmatrix}' % getLatex(b)))\n",
    "display(Math(\n",
    "    '\\\\ Objective Function: c = \\\\begin{bmatrix} \\n%s\\end{bmatrix}' % getLatex(c)))\n",
    "#display(Math('\\\\ A * d = \\\\begin{bmatrix} \\n%s\\end{bmatrix}' % matrix1))\n",
    "#display(Math('\\\\ A * d = \\\\begin{bmatrix} \\n%s\\end{bmatrix}' % matrix1))\n",
    "\n",
    "display(Math('\\\\ \\hspace{1cm}'))\n",
    "\n",
    "\n",
    "iteration_number = 1\n",
    "\n",
    "while(True):\n",
    "\n",
    "    display(Math('\\\\textbf{Iteration Number: \\n%s}' % iteration_number))\n",
    "\n",
    "    A_B = np.array([\n",
    "        A[B[0]-1],  # vector 1\n",
    "        A[B[1]-1],  # vector 5\n",
    "    ])\n",
    "    display(\n",
    "        Math('\\\\ A_B = \\\\begin{bmatrix} \\n%s\\end{bmatrix}' % getLatex(A_B)))\n",
    "\n",
    "    b_B = np.array([\n",
    "        b[B[0]-1],  # vector 1\n",
    "        b[B[1]-1],  # vector 5\n",
    "    ])\n",
    "    display(\n",
    "        Math('\\\\ b_B = \\\\begin{bmatrix} \\n%s\\end{bmatrix}' % getLatex(b_B)))\n",
    "\n",
    "    # calculating the inverse v = A_b^-1 *b_B\n",
    "    A_B_i = np.linalg.inv(A_B)\n",
    "    print(\"A inverse: \")\n",
    "    display(\n",
    "        Math('\\\\ A^-1_B = \\\\begin{bmatrix} \\n%s\\end{bmatrix}' % getLatex(A_B_i)))\n",
    "\n",
    "    v = np.matmul(A_B_i, b_B)\n",
    "    display(Math('\\\\textbf{ Associated feasible solutions: }'))\n",
    "    display(\n",
    "        Math('\\\\ A^-1_B * b_B = v = \\\\begin{bmatrix} \\n%s\\end{bmatrix}' % getLatex(v)))\n",
    "\n",
    "    u = np.matmul(c, A_B_i)\n",
    "    display(Math('\\\\textbf{ Reduced costs }'))\n",
    "    display(Math('\\\\ u = \\\\begin{bmatrix} \\n%s\\end{bmatrix}' % getLatex(u)))\n",
    "\n",
    "    display(\n",
    "        Math('\\\\textbf{Negative numbers detected: \\n%s}' % str(np.any(u < 0))))\n",
    "\n",
    "    # checking if there are not negative values\n",
    "    if(not np.any(u < 0)):\n",
    "        display(\n",
    "            Math('\\\\textbf{ All elements in u are positive, stop the execution! }'))\n",
    "        break\n",
    "\n",
    "    if(np.all((u == 0))):\n",
    "        display(\n",
    "            Math('\\\\textbf{ All elements in u are Zero, stop the execution! }'))\n",
    "        break\n",
    "\n",
    "    # continue calculation\n",
    "    index_of_min = np.argmin(u)\n",
    "\n",
    "    j = u[0][index_of_min]\n",
    "    display(Math('\\\\text{ j : \\n%s}' % B[index_of_min]))\n",
    "\n",
    "    d = -1 * np.array([A_B_i[:, index_of_min]]).transpose()\n",
    "    display(Math('\\\\ d = \\\\begin{bmatrix} \\n%s\\end{bmatrix}' % getLatex(d)))\n",
    "\n",
    "    p1 = np.matmul(A, v)\n",
    "    p2 = np.matmul(A, d)\n",
    "\n",
    "    part1 = p2\n",
    "    part2 = b - p1\n",
    "\n",
    "    index = 0\n",
    "    lambda_val = 0\n",
    "    minIndex = 0  # k -> index  of min value\n",
    "\n",
    "    # A(v + λd) = Av + λAd <= b\n",
    "    display(Math('\\\\textbf{ Calculate:  lambda * d <= b - A * v}'))\n",
    "    x = getLatex(part1)\n",
    "    y = getLatex(part2)\n",
    "    display(Math(\n",
    "        '\\\\lambda * \\\\begin{bmatrix} \\n%s\\end{bmatrix} = \\\\begin{bmatrix} \\n%s \\end{bmatrix}' % (x, y)))\n",
    "\n",
    "    for x in part1:\n",
    "        if(x[0] == 0 or x[0] < 0):\n",
    "            index += 1\n",
    "            continue\n",
    "        else:\n",
    "            partial_cal = part2[index][0] / x[0]  # integer division\n",
    "\n",
    "            print(\"partial cal: \", partial_cal)\n",
    "\n",
    "            if(lambda_val == 0):\n",
    "                lambda_val = partial_cal\n",
    "                minIndex = index\n",
    "            else:\n",
    "                if(partial_cal < lambda_val):\n",
    "                    lambda_val = partial_cal\n",
    "                    minIndex = index\n",
    "        index += 1\n",
    "\n",
    "    print(\"##########################\")\n",
    "    print(\"minIndex: \", minIndex)\n",
    "    display(Math('\\\\ k : \\n%s' % (minIndex+1)))\n",
    "    print(\"lambda_val value: \", lambda_val)\n",
    "    # rename lambda to lambda in variables\n",
    "    display(Math('\\\\lambda : \\n%s' % lambda_val))\n",
    "    print(\"u: \", u)\n",
    "    print(\"index of min: \", index_of_min)\n",
    "\n",
    "    # Replacing values in B\n",
    "    print(\"B: \", B)\n",
    "    display(Math('\\\\text{ B = (\\n%s , \\n%s ) }' % (B[0], B[1])))\n",
    "    k = minIndex + 1\n",
    "    B_aux = list(B)\n",
    "    print(\"B: \", B_aux)\n",
    "    B_aux[index_of_min] = k\n",
    "    B = tuple(B_aux)\n",
    "    print(\"B: \", B)\n",
    "    display(Math('\\\\text{ B = (\\n%s , \\n%s) }' % (B[0], B[1])))\n",
    "    iteration_number += 1\n",
    "    # break;\n"
   ]
  }
 ],
 "metadata": {
  "interpreter": {
   "hash": "916dbcbb3f70747c44a77c7bcd40155683ae19c65e1c03b4aa3499c5328201f1"
  },
  "kernelspec": {
   "display_name": "Python 3.8.10 64-bit",
   "language": "python",
   "name": "python3"
  },
  "language_info": {
   "codemirror_mode": {
    "name": "ipython",
    "version": 3
   },
   "file_extension": ".py",
   "mimetype": "text/x-python",
   "name": "python",
   "nbconvert_exporter": "python",
   "pygments_lexer": "ipython3",
   "version": "3.8.10"
  }
 },
 "nbformat": 4,
 "nbformat_minor": 5
}
