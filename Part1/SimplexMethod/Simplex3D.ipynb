{
 "cells": [
  {
   "cell_type": "code",
   "execution_count": 8,
   "metadata": {},
   "outputs": [],
   "source": [
    "import matplotlib.pyplot as plt\n",
    "import numpy as np\n",
    "from IPython.display import Math\n",
    "\n",
    "from printUtils import getLatex\n",
    "\n",
    "np.set_printoptions(precision=2)\n",
    "\n",
    "# Load matrix values\n",
    "# Matrix A, b and c\n",
    "# vertex\n",
    "\n",
    "A = np.array([\n",
    "    [1,1,1],\n",
    "    [1,0,0],\n",
    "    [0,0,1],\n",
    "    [0,3,1],\n",
    "    [-1,0,0],\n",
    "    [0,-1,0],\n",
    "    [0,0,-1], \n",
    "])\n",
    "\n",
    "b = np.array([\n",
    "    [4],\n",
    "    [2],\n",
    "    [3],\n",
    "    [6],\n",
    "    [0],\n",
    "    [0],\n",
    "    [0],\n",
    "])\n",
    "\n",
    "# objective function\n",
    "c = np.array([\n",
    "    [1,3,2]\n",
    "])\n",
    "\n",
    "vertex = (0,0,0)\n",
    "\n",
    "# vertex is the intersection of vector 1 and vector 5\n",
    "# Important! always select in ascendent order \n",
    "# B = {1,2} is okay, but B={2,1} not good\n",
    "B=(5,6,7)"
   ]
  },
  {
   "cell_type": "code",
   "execution_count": 9,
   "metadata": {},
   "outputs": [
    {
     "data": {
      "text/latex": [
       "$\\displaystyle \\ A = \\begin{bmatrix} \n",
       " 1.00 & 1.00 & 1.00 & \\\\ 1.00 & 0.00 & 0.00 & \\\\ 0.00 & 0.00 & 1.00 & \\\\ 0.00 & 3.00 & 1.00 & \\\\ -1.00 & 0.00 & 0.00 & \\\\ 0.00 & -1.00 & 0.00 & \\\\ 0.00 & 0.00 & -1.00 & \\\\\\end{bmatrix}$"
      ],
      "text/plain": [
       "<IPython.core.display.Math object>"
      ]
     },
     "metadata": {},
     "output_type": "display_data"
    },
    {
     "data": {
      "text/latex": [
       "$\\displaystyle \\ b = \\begin{bmatrix} \n",
       " 4.00 & \\\\ 2.00 & \\\\ 3.00 & \\\\ 6.00 & \\\\ 0.00 & \\\\ 0.00 & \\\\ 0.00 & \\\\\\end{bmatrix}$"
      ],
      "text/plain": [
       "<IPython.core.display.Math object>"
      ]
     },
     "metadata": {},
     "output_type": "display_data"
    },
    {
     "data": {
      "text/latex": [
       "$\\displaystyle \\ Objective Function: c = \\begin{bmatrix} \n",
       " 1.00 & 3.00 & 2.00 & \\\\\\end{bmatrix}$"
      ],
      "text/plain": [
       "<IPython.core.display.Math object>"
      ]
     },
     "metadata": {},
     "output_type": "display_data"
    },
    {
     "data": {
      "text/latex": [
       "$\\displaystyle \\ \\hspace{1cm}$"
      ],
      "text/plain": [
       "<IPython.core.display.Math object>"
      ]
     },
     "metadata": {},
     "output_type": "display_data"
    },
    {
     "data": {
      "text/latex": [
       "$\\displaystyle \\textbf{Iteration Number: \n",
       "1}$"
      ],
      "text/plain": [
       "<IPython.core.display.Math object>"
      ]
     },
     "metadata": {},
     "output_type": "display_data"
    },
    {
     "data": {
      "text/latex": [
       "$\\displaystyle \\ A_B = \\begin{bmatrix} \n",
       " -1.00 & 0.00 & 0.00 & \\\\ 0.00 & -1.00 & 0.00 & \\\\ 0.00 & 0.00 & -1.00 & \\\\\\end{bmatrix}$"
      ],
      "text/plain": [
       "<IPython.core.display.Math object>"
      ]
     },
     "metadata": {},
     "output_type": "display_data"
    },
    {
     "data": {
      "text/latex": [
       "$\\displaystyle \\ b_B = \\begin{bmatrix} \n",
       " 0.00 & \\\\ 0.00 & \\\\ 0.00 & \\\\\\end{bmatrix}$"
      ],
      "text/plain": [
       "<IPython.core.display.Math object>"
      ]
     },
     "metadata": {},
     "output_type": "display_data"
    },
    {
     "name": "stdout",
     "output_type": "stream",
     "text": [
      "A inverse: \n"
     ]
    },
    {
     "data": {
      "text/latex": [
       "$\\displaystyle \\ A^-1_B = \\begin{bmatrix} \n",
       " -1.00 & -0.00 & -0.00 & \\\\ -0.00 & -1.00 & -0.00 & \\\\ -0.00 & -0.00 & -1.00 & \\\\\\end{bmatrix}$"
      ],
      "text/plain": [
       "<IPython.core.display.Math object>"
      ]
     },
     "metadata": {},
     "output_type": "display_data"
    },
    {
     "data": {
      "text/latex": [
       "$\\displaystyle \\textbf{ Associated feasible solutions: }$"
      ],
      "text/plain": [
       "<IPython.core.display.Math object>"
      ]
     },
     "metadata": {},
     "output_type": "display_data"
    },
    {
     "data": {
      "text/latex": [
       "$\\displaystyle \\ A^-1_B * b_B = v = \\begin{bmatrix} \n",
       " 0.00 & \\\\ 0.00 & \\\\ 0.00 & \\\\\\end{bmatrix}$"
      ],
      "text/plain": [
       "<IPython.core.display.Math object>"
      ]
     },
     "metadata": {},
     "output_type": "display_data"
    },
    {
     "data": {
      "text/latex": [
       "$\\displaystyle \\textbf{ Reduced costs }$"
      ],
      "text/plain": [
       "<IPython.core.display.Math object>"
      ]
     },
     "metadata": {},
     "output_type": "display_data"
    },
    {
     "data": {
      "text/latex": [
       "$\\displaystyle \\ u = \\begin{bmatrix} \n",
       " -1.00 & -3.00 & -2.00 & \\\\\\end{bmatrix}$"
      ],
      "text/plain": [
       "<IPython.core.display.Math object>"
      ]
     },
     "metadata": {},
     "output_type": "display_data"
    },
    {
     "data": {
      "text/latex": [
       "$\\displaystyle \\textbf{Negative numbers detected: \n",
       "True}$"
      ],
      "text/plain": [
       "<IPython.core.display.Math object>"
      ]
     },
     "metadata": {},
     "output_type": "display_data"
    },
    {
     "data": {
      "text/latex": [
       "$\\displaystyle \\text{ j : \n",
       "6}$"
      ],
      "text/plain": [
       "<IPython.core.display.Math object>"
      ]
     },
     "metadata": {},
     "output_type": "display_data"
    },
    {
     "name": "stdout",
     "output_type": "stream",
     "text": [
      "[[0.]\n",
      " [1.]\n",
      " [0.]]\n"
     ]
    },
    {
     "data": {
      "text/latex": [
       "$\\displaystyle \\ d = \\begin{bmatrix} \n",
       " 0.00 & \\\\ 1.00 & \\\\ 0.00 & \\\\\\end{bmatrix}$"
      ],
      "text/plain": [
       "<IPython.core.display.Math object>"
      ]
     },
     "metadata": {},
     "output_type": "display_data"
    },
    {
     "data": {
      "text/latex": [
       "$\\displaystyle \\textbf{ Calculate:  lambda * d <= b - A*v}$"
      ],
      "text/plain": [
       "<IPython.core.display.Math object>"
      ]
     },
     "metadata": {},
     "output_type": "display_data"
    },
    {
     "data": {
      "text/latex": [
       "$\\displaystyle \\lambda * \\begin{bmatrix} \n",
       " 1.00 & \\\\ 0.00 & \\\\ 0.00 & \\\\ 3.00 & \\\\ 0.00 & \\\\ -1.00 & \\\\ 0.00 & \\\\\\end{bmatrix} = \\begin{bmatrix} \n",
       " 4.00 & \\\\ 2.00 & \\\\ 3.00 & \\\\ 6.00 & \\\\ 0.00 & \\\\ 0.00 & \\\\ 0.00 & \\\\ \\end{bmatrix}$"
      ],
      "text/plain": [
       "<IPython.core.display.Math object>"
      ]
     },
     "metadata": {},
     "output_type": "display_data"
    },
    {
     "name": "stdout",
     "output_type": "stream",
     "text": [
      "partial cal:  4.0\n",
      "partial cal:  2.0\n",
      "##########################\n",
      "minIndex:  3\n"
     ]
    },
    {
     "data": {
      "text/latex": [
       "$\\displaystyle \\ k : \n",
       "4$"
      ],
      "text/plain": [
       "<IPython.core.display.Math object>"
      ]
     },
     "metadata": {},
     "output_type": "display_data"
    },
    {
     "name": "stdout",
     "output_type": "stream",
     "text": [
      "lambda_val value:  2.0\n"
     ]
    },
    {
     "data": {
      "text/latex": [
       "$\\displaystyle \\lambda : \n",
       "2.0$"
      ],
      "text/plain": [
       "<IPython.core.display.Math object>"
      ]
     },
     "metadata": {},
     "output_type": "display_data"
    },
    {
     "name": "stdout",
     "output_type": "stream",
     "text": [
      "u:  [[-1. -3. -2.]]\n",
      "index of min:  1\n",
      "B:  (5, 6, 7)\n"
     ]
    },
    {
     "data": {
      "text/latex": [
       "$\\displaystyle \\text{ B = {\n",
       "5 , \n",
       "6 , \n",
       "7} }$"
      ],
      "text/plain": [
       "<IPython.core.display.Math object>"
      ]
     },
     "metadata": {},
     "output_type": "display_data"
    },
    {
     "name": "stdout",
     "output_type": "stream",
     "text": [
      "B:  (4, 5, 7)\n"
     ]
    },
    {
     "data": {
      "text/latex": [
       "$\\displaystyle \\text{ B = {\n",
       "4 , \n",
       "5 , \n",
       "7} }$"
      ],
      "text/plain": [
       "<IPython.core.display.Math object>"
      ]
     },
     "metadata": {},
     "output_type": "display_data"
    },
    {
     "data": {
      "text/latex": [
       "$\\displaystyle \\textbf{Iteration Number: \n",
       "2}$"
      ],
      "text/plain": [
       "<IPython.core.display.Math object>"
      ]
     },
     "metadata": {},
     "output_type": "display_data"
    },
    {
     "data": {
      "text/latex": [
       "$\\displaystyle \\ A_B = \\begin{bmatrix} \n",
       " 0.00 & 3.00 & 1.00 & \\\\ -1.00 & 0.00 & 0.00 & \\\\ 0.00 & 0.00 & -1.00 & \\\\\\end{bmatrix}$"
      ],
      "text/plain": [
       "<IPython.core.display.Math object>"
      ]
     },
     "metadata": {},
     "output_type": "display_data"
    },
    {
     "data": {
      "text/latex": [
       "$\\displaystyle \\ b_B = \\begin{bmatrix} \n",
       " 6.00 & \\\\ 0.00 & \\\\ 0.00 & \\\\\\end{bmatrix}$"
      ],
      "text/plain": [
       "<IPython.core.display.Math object>"
      ]
     },
     "metadata": {},
     "output_type": "display_data"
    },
    {
     "name": "stdout",
     "output_type": "stream",
     "text": [
      "A inverse: \n"
     ]
    },
    {
     "data": {
      "text/latex": [
       "$\\displaystyle \\ A^-1_B = \\begin{bmatrix} \n",
       " -0.00 & -1.00 & -0.00 & \\\\ 0.33 & 0.00 & 0.33 & \\\\ -0.00 & -0.00 & -1.00 & \\\\\\end{bmatrix}$"
      ],
      "text/plain": [
       "<IPython.core.display.Math object>"
      ]
     },
     "metadata": {},
     "output_type": "display_data"
    },
    {
     "data": {
      "text/latex": [
       "$\\displaystyle \\textbf{ Associated feasible solutions: }$"
      ],
      "text/plain": [
       "<IPython.core.display.Math object>"
      ]
     },
     "metadata": {},
     "output_type": "display_data"
    },
    {
     "data": {
      "text/latex": [
       "$\\displaystyle \\ A^-1_B * b_B = v = \\begin{bmatrix} \n",
       " 0.00 & \\\\ 2.00 & \\\\ 0.00 & \\\\\\end{bmatrix}$"
      ],
      "text/plain": [
       "<IPython.core.display.Math object>"
      ]
     },
     "metadata": {},
     "output_type": "display_data"
    },
    {
     "data": {
      "text/latex": [
       "$\\displaystyle \\textbf{ Reduced costs }$"
      ],
      "text/plain": [
       "<IPython.core.display.Math object>"
      ]
     },
     "metadata": {},
     "output_type": "display_data"
    },
    {
     "data": {
      "text/latex": [
       "$\\displaystyle \\ u = \\begin{bmatrix} \n",
       " 1.00 & -1.00 & -1.00 & \\\\\\end{bmatrix}$"
      ],
      "text/plain": [
       "<IPython.core.display.Math object>"
      ]
     },
     "metadata": {},
     "output_type": "display_data"
    },
    {
     "data": {
      "text/latex": [
       "$\\displaystyle \\textbf{Negative numbers detected: \n",
       "True}$"
      ],
      "text/plain": [
       "<IPython.core.display.Math object>"
      ]
     },
     "metadata": {},
     "output_type": "display_data"
    },
    {
     "data": {
      "text/latex": [
       "$\\displaystyle \\text{ j : \n",
       "5}$"
      ],
      "text/plain": [
       "<IPython.core.display.Math object>"
      ]
     },
     "metadata": {},
     "output_type": "display_data"
    },
    {
     "name": "stdout",
     "output_type": "stream",
     "text": [
      "[[ 1.]\n",
      " [-0.]\n",
      " [ 0.]]\n"
     ]
    },
    {
     "data": {
      "text/latex": [
       "$\\displaystyle \\ d = \\begin{bmatrix} \n",
       " 1.00 & \\\\ -0.00 & \\\\ 0.00 & \\\\\\end{bmatrix}$"
      ],
      "text/plain": [
       "<IPython.core.display.Math object>"
      ]
     },
     "metadata": {},
     "output_type": "display_data"
    },
    {
     "data": {
      "text/latex": [
       "$\\displaystyle \\textbf{ Calculate:  lambda * d <= b - A*v}$"
      ],
      "text/plain": [
       "<IPython.core.display.Math object>"
      ]
     },
     "metadata": {},
     "output_type": "display_data"
    },
    {
     "data": {
      "text/latex": [
       "$\\displaystyle \\lambda * \\begin{bmatrix} \n",
       " 1.00 & \\\\ 1.00 & \\\\ 0.00 & \\\\ 0.00 & \\\\ -1.00 & \\\\ 0.00 & \\\\ 0.00 & \\\\\\end{bmatrix} = \\begin{bmatrix} \n",
       " 2.00 & \\\\ 2.00 & \\\\ 3.00 & \\\\ 0.00 & \\\\ 0.00 & \\\\ 2.00 & \\\\ 0.00 & \\\\ \\end{bmatrix}$"
      ],
      "text/plain": [
       "<IPython.core.display.Math object>"
      ]
     },
     "metadata": {},
     "output_type": "display_data"
    },
    {
     "name": "stdout",
     "output_type": "stream",
     "text": [
      "partial cal:  2.0\n",
      "partial cal:  2.0\n",
      "##########################\n",
      "minIndex:  0\n"
     ]
    },
    {
     "data": {
      "text/latex": [
       "$\\displaystyle \\ k : \n",
       "1$"
      ],
      "text/plain": [
       "<IPython.core.display.Math object>"
      ]
     },
     "metadata": {},
     "output_type": "display_data"
    },
    {
     "name": "stdout",
     "output_type": "stream",
     "text": [
      "lambda_val value:  2.0\n"
     ]
    },
    {
     "data": {
      "text/latex": [
       "$\\displaystyle \\lambda : \n",
       "2.0$"
      ],
      "text/plain": [
       "<IPython.core.display.Math object>"
      ]
     },
     "metadata": {},
     "output_type": "display_data"
    },
    {
     "name": "stdout",
     "output_type": "stream",
     "text": [
      "u:  [[ 1. -1. -1.]]\n",
      "index of min:  1\n",
      "B:  (4, 5, 7)\n"
     ]
    },
    {
     "data": {
      "text/latex": [
       "$\\displaystyle \\text{ B = {\n",
       "4 , \n",
       "5 , \n",
       "7} }$"
      ],
      "text/plain": [
       "<IPython.core.display.Math object>"
      ]
     },
     "metadata": {},
     "output_type": "display_data"
    },
    {
     "name": "stdout",
     "output_type": "stream",
     "text": [
      "B:  (1, 4, 7)\n"
     ]
    },
    {
     "data": {
      "text/latex": [
       "$\\displaystyle \\text{ B = {\n",
       "1 , \n",
       "4 , \n",
       "7} }$"
      ],
      "text/plain": [
       "<IPython.core.display.Math object>"
      ]
     },
     "metadata": {},
     "output_type": "display_data"
    },
    {
     "data": {
      "text/latex": [
       "$\\displaystyle \\textbf{Iteration Number: \n",
       "3}$"
      ],
      "text/plain": [
       "<IPython.core.display.Math object>"
      ]
     },
     "metadata": {},
     "output_type": "display_data"
    },
    {
     "data": {
      "text/latex": [
       "$\\displaystyle \\ A_B = \\begin{bmatrix} \n",
       " 1.00 & 1.00 & 1.00 & \\\\ 0.00 & 3.00 & 1.00 & \\\\ 0.00 & 0.00 & -1.00 & \\\\\\end{bmatrix}$"
      ],
      "text/plain": [
       "<IPython.core.display.Math object>"
      ]
     },
     "metadata": {},
     "output_type": "display_data"
    },
    {
     "data": {
      "text/latex": [
       "$\\displaystyle \\ b_B = \\begin{bmatrix} \n",
       " 4.00 & \\\\ 6.00 & \\\\ 0.00 & \\\\\\end{bmatrix}$"
      ],
      "text/plain": [
       "<IPython.core.display.Math object>"
      ]
     },
     "metadata": {},
     "output_type": "display_data"
    },
    {
     "name": "stdout",
     "output_type": "stream",
     "text": [
      "A inverse: \n"
     ]
    },
    {
     "data": {
      "text/latex": [
       "$\\displaystyle \\ A^-1_B = \\begin{bmatrix} \n",
       " 1.00 & -0.33 & 0.67 & \\\\ 0.00 & 0.33 & 0.33 & \\\\ -0.00 & -0.00 & -1.00 & \\\\\\end{bmatrix}$"
      ],
      "text/plain": [
       "<IPython.core.display.Math object>"
      ]
     },
     "metadata": {},
     "output_type": "display_data"
    },
    {
     "data": {
      "text/latex": [
       "$\\displaystyle \\textbf{ Associated feasible solutions: }$"
      ],
      "text/plain": [
       "<IPython.core.display.Math object>"
      ]
     },
     "metadata": {},
     "output_type": "display_data"
    },
    {
     "data": {
      "text/latex": [
       "$\\displaystyle \\ A^-1_B * b_B = v = \\begin{bmatrix} \n",
       " 2.00 & \\\\ 2.00 & \\\\ 0.00 & \\\\\\end{bmatrix}$"
      ],
      "text/plain": [
       "<IPython.core.display.Math object>"
      ]
     },
     "metadata": {},
     "output_type": "display_data"
    },
    {
     "data": {
      "text/latex": [
       "$\\displaystyle \\textbf{ Reduced costs }$"
      ],
      "text/plain": [
       "<IPython.core.display.Math object>"
      ]
     },
     "metadata": {},
     "output_type": "display_data"
    },
    {
     "data": {
      "text/latex": [
       "$\\displaystyle \\ u = \\begin{bmatrix} \n",
       " 1.00 & 0.67 & -0.33 & \\\\\\end{bmatrix}$"
      ],
      "text/plain": [
       "<IPython.core.display.Math object>"
      ]
     },
     "metadata": {},
     "output_type": "display_data"
    },
    {
     "data": {
      "text/latex": [
       "$\\displaystyle \\textbf{Negative numbers detected: \n",
       "True}$"
      ],
      "text/plain": [
       "<IPython.core.display.Math object>"
      ]
     },
     "metadata": {},
     "output_type": "display_data"
    },
    {
     "data": {
      "text/latex": [
       "$\\displaystyle \\text{ j : \n",
       "7}$"
      ],
      "text/plain": [
       "<IPython.core.display.Math object>"
      ]
     },
     "metadata": {},
     "output_type": "display_data"
    },
    {
     "name": "stdout",
     "output_type": "stream",
     "text": [
      "[[-0.67]\n",
      " [-0.33]\n",
      " [ 1.  ]]\n"
     ]
    },
    {
     "data": {
      "text/latex": [
       "$\\displaystyle \\ d = \\begin{bmatrix} \n",
       " -0.67 & \\\\ -0.33 & \\\\ 1.00 & \\\\\\end{bmatrix}$"
      ],
      "text/plain": [
       "<IPython.core.display.Math object>"
      ]
     },
     "metadata": {},
     "output_type": "display_data"
    },
    {
     "data": {
      "text/latex": [
       "$\\displaystyle \\textbf{ Calculate:  lambda * d <= b - A*v}$"
      ],
      "text/plain": [
       "<IPython.core.display.Math object>"
      ]
     },
     "metadata": {},
     "output_type": "display_data"
    },
    {
     "data": {
      "text/latex": [
       "$\\displaystyle \\lambda * \\begin{bmatrix} \n",
       " 0.00 & \\\\ -0.67 & \\\\ 1.00 & \\\\ 0.00 & \\\\ 0.67 & \\\\ 0.33 & \\\\ -1.00 & \\\\\\end{bmatrix} = \\begin{bmatrix} \n",
       " 0.00 & \\\\ 0.00 & \\\\ 3.00 & \\\\ 0.00 & \\\\ 2.00 & \\\\ 2.00 & \\\\ 0.00 & \\\\ \\end{bmatrix}$"
      ],
      "text/plain": [
       "<IPython.core.display.Math object>"
      ]
     },
     "metadata": {},
     "output_type": "display_data"
    },
    {
     "name": "stdout",
     "output_type": "stream",
     "text": [
      "partial cal:  3.0\n",
      "partial cal:  2.9999999999999996\n",
      "partial cal:  6.0\n",
      "##########################\n",
      "minIndex:  4\n"
     ]
    },
    {
     "data": {
      "text/latex": [
       "$\\displaystyle \\ k : \n",
       "5$"
      ],
      "text/plain": [
       "<IPython.core.display.Math object>"
      ]
     },
     "metadata": {},
     "output_type": "display_data"
    },
    {
     "name": "stdout",
     "output_type": "stream",
     "text": [
      "lambda_val value:  2.9999999999999996\n"
     ]
    },
    {
     "data": {
      "text/latex": [
       "$\\displaystyle \\lambda : \n",
       "2.9999999999999996$"
      ],
      "text/plain": [
       "<IPython.core.display.Math object>"
      ]
     },
     "metadata": {},
     "output_type": "display_data"
    },
    {
     "name": "stdout",
     "output_type": "stream",
     "text": [
      "u:  [[ 1.    0.67 -0.33]]\n",
      "index of min:  2\n",
      "B:  (1, 4, 7)\n"
     ]
    },
    {
     "data": {
      "text/latex": [
       "$\\displaystyle \\text{ B = {\n",
       "1 , \n",
       "4 , \n",
       "7} }$"
      ],
      "text/plain": [
       "<IPython.core.display.Math object>"
      ]
     },
     "metadata": {},
     "output_type": "display_data"
    },
    {
     "name": "stdout",
     "output_type": "stream",
     "text": [
      "B:  (1, 4, 5)\n"
     ]
    },
    {
     "data": {
      "text/latex": [
       "$\\displaystyle \\text{ B = {\n",
       "1 , \n",
       "4 , \n",
       "5} }$"
      ],
      "text/plain": [
       "<IPython.core.display.Math object>"
      ]
     },
     "metadata": {},
     "output_type": "display_data"
    },
    {
     "data": {
      "text/latex": [
       "$\\displaystyle \\textbf{Iteration Number: \n",
       "4}$"
      ],
      "text/plain": [
       "<IPython.core.display.Math object>"
      ]
     },
     "metadata": {},
     "output_type": "display_data"
    },
    {
     "data": {
      "text/latex": [
       "$\\displaystyle \\ A_B = \\begin{bmatrix} \n",
       " 1.00 & 1.00 & 1.00 & \\\\ 0.00 & 3.00 & 1.00 & \\\\ -1.00 & 0.00 & 0.00 & \\\\\\end{bmatrix}$"
      ],
      "text/plain": [
       "<IPython.core.display.Math object>"
      ]
     },
     "metadata": {},
     "output_type": "display_data"
    },
    {
     "data": {
      "text/latex": [
       "$\\displaystyle \\ b_B = \\begin{bmatrix} \n",
       " 4.00 & \\\\ 6.00 & \\\\ 0.00 & \\\\\\end{bmatrix}$"
      ],
      "text/plain": [
       "<IPython.core.display.Math object>"
      ]
     },
     "metadata": {},
     "output_type": "display_data"
    },
    {
     "name": "stdout",
     "output_type": "stream",
     "text": [
      "A inverse: \n"
     ]
    },
    {
     "data": {
      "text/latex": [
       "$\\displaystyle \\ A^-1_B = \\begin{bmatrix} \n",
       " 0.00 & -0.00 & -1.00 & \\\\ -0.50 & 0.50 & -0.50 & \\\\ 1.50 & -0.50 & 1.50 & \\\\\\end{bmatrix}$"
      ],
      "text/plain": [
       "<IPython.core.display.Math object>"
      ]
     },
     "metadata": {},
     "output_type": "display_data"
    },
    {
     "data": {
      "text/latex": [
       "$\\displaystyle \\textbf{ Associated feasible solutions: }$"
      ],
      "text/plain": [
       "<IPython.core.display.Math object>"
      ]
     },
     "metadata": {},
     "output_type": "display_data"
    },
    {
     "data": {
      "text/latex": [
       "$\\displaystyle \\ A^-1_B * b_B = v = \\begin{bmatrix} \n",
       " -0.00 & \\\\ 1.00 & \\\\ 3.00 & \\\\\\end{bmatrix}$"
      ],
      "text/plain": [
       "<IPython.core.display.Math object>"
      ]
     },
     "metadata": {},
     "output_type": "display_data"
    },
    {
     "data": {
      "text/latex": [
       "$\\displaystyle \\textbf{ Reduced costs }$"
      ],
      "text/plain": [
       "<IPython.core.display.Math object>"
      ]
     },
     "metadata": {},
     "output_type": "display_data"
    },
    {
     "data": {
      "text/latex": [
       "$\\displaystyle \\ u = \\begin{bmatrix} \n",
       " 1.50 & 0.50 & 0.50 & \\\\\\end{bmatrix}$"
      ],
      "text/plain": [
       "<IPython.core.display.Math object>"
      ]
     },
     "metadata": {},
     "output_type": "display_data"
    },
    {
     "data": {
      "text/latex": [
       "$\\displaystyle \\textbf{Negative numbers detected: \n",
       "False}$"
      ],
      "text/plain": [
       "<IPython.core.display.Math object>"
      ]
     },
     "metadata": {},
     "output_type": "display_data"
    },
    {
     "data": {
      "text/latex": [
       "$\\displaystyle \\textbf{ All elements in u are positive, stop the execution! }$"
      ],
      "text/plain": [
       "<IPython.core.display.Math object>"
      ]
     },
     "metadata": {},
     "output_type": "display_data"
    }
   ],
   "source": [
    "# Running iterations\n",
    "\n",
    "display(Math('\\\\ A = \\\\begin{bmatrix} \\n%s\\end{bmatrix}' % getLatex(A)))\n",
    "display(Math('\\\\ b = \\\\begin{bmatrix} \\n%s\\end{bmatrix}' % getLatex(b)))\n",
    "display(Math(\n",
    "    '\\\\ Objective Function: c = \\\\begin{bmatrix} \\n%s\\end{bmatrix}' % getLatex(c)))\n",
    "#display(Math('\\\\ A * d = \\\\begin{bmatrix} \\n%s\\end{bmatrix}' % matrix1))\n",
    "#display(Math('\\\\ A * d = \\\\begin{bmatrix} \\n%s\\end{bmatrix}' % matrix1))\n",
    "\n",
    "display(Math('\\\\ \\hspace{1cm}'))\n",
    "\n",
    "\n",
    "iteration_number = 1\n",
    "\n",
    "while(True):\n",
    "\n",
    "    display(Math('\\\\textbf{Iteration Number: \\n%s}' % iteration_number))\n",
    "\n",
    "    A_B = np.array([\n",
    "        A[B[0]-1],  # vector 1\n",
    "        A[B[1]-1],  # vector 5\n",
    "        A[B[2]-1]\n",
    "    ])\n",
    "    display(\n",
    "        Math('\\\\ A_B = \\\\begin{bmatrix} \\n%s\\end{bmatrix}' % getLatex(A_B)))\n",
    "\n",
    "    b_B = np.array([\n",
    "        b[B[0]-1],  # vector 1\n",
    "        b[B[1]-1],  # vector 5\n",
    "        b[B[2]-1]  # vector 5\n",
    "    ])\n",
    "    display(\n",
    "        Math('\\\\ b_B = \\\\begin{bmatrix} \\n%s\\end{bmatrix}' % getLatex(b_B)))\n",
    "\n",
    "    # calculating the inverse v = A_b^-1 *b_B\n",
    "    A_B_i = np.linalg.inv(A_B)\n",
    "    print(\"A inverse: \")\n",
    "    display(\n",
    "        Math('\\\\ A^-1_B = \\\\begin{bmatrix} \\n%s\\end{bmatrix}' % getLatex(A_B_i)))\n",
    "\n",
    "    v = np.matmul(A_B_i, b_B)\n",
    "    display(Math('\\\\textbf{ Associated feasible solutions: }'))\n",
    "    display(\n",
    "        Math('\\\\ A^-1_B * b_B = v = \\\\begin{bmatrix} \\n%s\\end{bmatrix}' % getLatex(v)))\n",
    "\n",
    "    u = np.matmul(c, A_B_i)\n",
    "    display(Math('\\\\textbf{ Reduced costs }'))\n",
    "    display(Math('\\\\ u = \\\\begin{bmatrix} \\n%s\\end{bmatrix}' % getLatex(u)))\n",
    "\n",
    "    display(\n",
    "        Math('\\\\textbf{Negative numbers detected: \\n%s}' % str(np.any(u < 0))))\n",
    "\n",
    "    # checking if there are not negative values\n",
    "    if(not np.any(u < 0)):\n",
    "        display(\n",
    "            Math('\\\\textbf{ All elements in u are positive, stop the execution! }'))\n",
    "        break\n",
    "\n",
    "    if(np.all((u == 0))):\n",
    "        display(\n",
    "            Math('\\\\textbf{ All elements in u are Zero, stop the execution! }'))\n",
    "        break\n",
    "\n",
    "    # continue calculation\n",
    "    index_of_min = np.argmin(u)\n",
    "\n",
    "    j = u[0][index_of_min]\n",
    "    display(Math('\\\\text{ j : \\n%s}' % B[index_of_min]))\n",
    "\n",
    "    d = -1 * np.array([A_B_i[:, index_of_min]]).transpose()\n",
    "    print(d)\n",
    "    display(Math('\\\\ d = \\\\begin{bmatrix} \\n%s\\end{bmatrix}' % getLatex(d)))\n",
    "\n",
    "    p1 = np.matmul(A, v)\n",
    "    p2 = np.matmul(A, d)\n",
    "\n",
    "    part1 = p2\n",
    "    part2 = b - p1\n",
    "\n",
    "    index = 0\n",
    "    lambda_val = 0\n",
    "    minIndex = 0  # k -> index  of min value\n",
    "\n",
    "    # A(v + λd) = Av + λAd <= b\n",
    "    display(Math('\\\\textbf{ Calculate:  lambda * d <= b - A*v}'))\n",
    "    x = getLatex(part1)\n",
    "    y = getLatex(part2)\n",
    "    display(Math(\n",
    "        '\\\\lambda * \\\\begin{bmatrix} \\n%s\\end{bmatrix} = \\\\begin{bmatrix} \\n%s \\end{bmatrix}' % (x, y)))\n",
    "\n",
    "    for x in part1:\n",
    "        if(x[0] == 0 or x[0] < 0):\n",
    "            index += 1\n",
    "            continue\n",
    "        else:\n",
    "            partial_cal = part2[index][0] / x[0]  # integer division\n",
    "\n",
    "            print(\"partial cal: \", partial_cal)\n",
    "\n",
    "            if(lambda_val == 0):\n",
    "                lambda_val = partial_cal\n",
    "                minIndex = index\n",
    "            else:\n",
    "                if(partial_cal < lambda_val):\n",
    "                    lambda_val = partial_cal\n",
    "                    minIndex = index\n",
    "        index += 1\n",
    "\n",
    "    print(\"##########################\")\n",
    "    print(\"minIndex: \", minIndex)\n",
    "    display(Math('\\\\ k : \\n%s' % (minIndex+1)))\n",
    "    print(\"lambda_val value: \", lambda_val)\n",
    "    # rename lambda to lambda in variables\n",
    "    display(Math('\\\\lambda : \\n%s' % lambda_val))\n",
    "    print(\"u: \", u)\n",
    "    print(\"index of min: \", index_of_min)\n",
    "\n",
    "    # Replacing values in B\n",
    "    print(\"B: \", B)\n",
    "    display(Math('\\\\text{ B = {\\n%s , \\n%s , \\n%s} }' % (B[0], B[1], B[2])))\n",
    "    k = minIndex + 1\n",
    "    B_aux = list(B)\n",
    "    B_aux[index_of_min] = k\n",
    "    B_aux.sort()\n",
    "    B = tuple(B_aux)\n",
    "    print(\"B: \", B)\n",
    "    display(Math('\\\\text{ B = {\\n%s , \\n%s , \\n%s} }' % (B[0], B[1], B[2])))\n",
    "    iteration_number += 1\n",
    "    # break;\n"
   ]
  },
  {
   "cell_type": "code",
   "execution_count": 24,
   "metadata": {},
   "outputs": [
    {
     "data": {
      "image/png": "[encoded data removed]",
      "text/plain": [
       "<Figure size 432x288 with 1 Axes>"
      ]
     },
     "metadata": {
      "needs_background": "light"
     },
     "output_type": "display_data"
    }
   ],
   "source": [
    "from sympy.plotting import plot\n",
    "from sympy import Symbol\n",
    "\n",
    "x1 = Symbol('x')\n",
    "y = (2 - x1)/2\n",
    "y2 = 1 + x1\n",
    "x = 3  # this guys is x1 = 3 the x2 variable does not exists\n",
    "y4 = x*0 + 2\n",
    "y5 = 0\n",
    "\n",
    "# TODO: Add validation to draw vertical lines when the value to divide the function is eq Zero\n",
    "graph = plot(y, y2, y4, y5, x, (x1, 0, 5), title=\"Graph\", legend=True,\n",
    "             xlabel='x1', ylabel='x2', show=False)\n",
    "\n",
    "graph[0].line_color = 'b'\n",
    "# graph[1].line_color='g'\n",
    "\n",
    "graph.show()\n"
   ]
  }
 ],
 "metadata": {
  "interpreter": {
   "hash": "916dbcbb3f70747c44a77c7bcd40155683ae19c65e1c03b4aa3499c5328201f1"
  },
  "kernelspec": {
   "display_name": "Python 3.8.10 64-bit",
   "language": "python",
   "name": "python3"
  },
  "language_info": {
   "codemirror_mode": {
    "name": "ipython",
    "version": 3
   },
   "file_extension": ".py",
   "mimetype": "text/x-python",
   "name": "python",
   "nbconvert_exporter": "python",
   "pygments_lexer": "ipython3",
   "version": "3.8.10"
  },
  "orig_nbformat": 4
 },
 "nbformat": 4,
 "nbformat_minor": 2
}
