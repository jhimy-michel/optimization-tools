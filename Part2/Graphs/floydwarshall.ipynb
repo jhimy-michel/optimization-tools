{
 "cells": [
  {
   "cell_type": "code",
   "execution_count": 2,
   "metadata": {},
   "outputs": [
    {
     "name": "stdout",
     "output_type": "stream",
     "text": [
      "For r =  0\n",
      "[[0, 60, 160, 999, 700, 600], [60, 0, 220, 140, 760, 660], [160, 220, 0, 20, 860, 500], [999, 140, 20, 0, 800, 300], [700, 760, 860, 800, 0, 40], [600, 660, 500, 300, 40, 0]]\n",
      "For r =  3\n",
      "[[0, 60, 160, 999, 700, 600], [60, 0, 160, 140, 760, 440], [160, 160, 0, 20, 820, 320], [999, 140, 20, 0, 800, 300], [700, 760, 820, 800, 0, 40], [600, 440, 320, 300, 40, 0]]\n",
      "For r =  5\n",
      "[[0, 60, 160, 900, 640, 600], [60, 0, 160, 140, 480, 440], [160, 160, 0, 20, 360, 320], [900, 140, 20, 0, 340, 300], [640, 480, 360, 340, 0, 40], [600, 440, 320, 300, 40, 0]]\n"
     ]
    }
   ],
   "source": [
    "import networkx as nx\n",
    "import tools as helper\n",
    "import pandas as pd\n",
    "from IPython.display import display, HTML\n",
    "\n",
    "\n",
    "# Algorithm\n",
    "\n",
    "\n",
    "def floyd(G):\n",
    "    dist = list(map(lambda p: list(map(lambda q: q, p)), G))\n",
    "\n",
    "    # Adding vertices individually\n",
    "    for r in range(nV):\n",
    "        if(r == 0 or r == 3 or r == 5):  # skip this line if no specific stops are required\n",
    "            print(\"For r = \", r)\n",
    "            for p in range(nV):\n",
    "                for q in range(nV):\n",
    "                    dist[p][q] = min(dist[p][q], dist[p][r] + dist[r][q])\n",
    "            print(dist)\n",
    "            display(HTML(pd.DataFrame(dist).to_html()))\n",
    "        else:\n",
    "            continue\n",
    "\n",
    "\n",
    "# Printing the output\n",
    "def sol(dist):\n",
    "    for p in range(nV):\n",
    "        for q in range(nV):\n",
    "            if(dist[p][q] == INF):\n",
    "                print(\"INF\", end=\" \")\n",
    "            else:\n",
    "                print(dist[p][q], end=\"  \")\n",
    "        print(\"\")  # \\n is append to the end of the string\n",
    "\n",
    "\n",
    "# Number of vertices\n",
    "nV = 6\n",
    "INF = 999  # used as infinitum representation\n",
    "\n",
    "G = [[0, 60, 160, INF, 700, 600],  # A\n",
    "     [60, 0, 220, 140, INF, 800],  # B\n",
    "     [160, 220, 0, 20, 900, 500],  # C\n",
    "     [INF, 140, 20, 0, 800, 300],  # D\n",
    "     [700, INF, 900, 800, 0, 40],  # E\n",
    "     [600, 800, 500, 300, 40, 0],  # F\n",
    "     ]\n",
    "\n",
    "floyd(G)\n",
    "#dist = list(map(lambda p: list(map(lambda q: q, p)), G))\n"
   ]
  }
 ],
 "metadata": {
  "interpreter": {
   "hash": "916dbcbb3f70747c44a77c7bcd40155683ae19c65e1c03b4aa3499c5328201f1"
  },
  "kernelspec": {
   "display_name": "Python 3.8.10 64-bit",
   "language": "python",
   "name": "python3"
  },
  "language_info": {
   "codemirror_mode": {
    "name": "ipython",
    "version": 3
   },
   "file_extension": ".py",
   "mimetype": "text/x-python",
   "name": "python",
   "nbconvert_exporter": "python",
   "pygments_lexer": "ipython3",
   "version": "3.8.10"
  },
  "orig_nbformat": 4
 },
 "nbformat": 4,
 "nbformat_minor": 2
}
