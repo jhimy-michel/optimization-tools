{
 "cells": [
  {
   "cell_type": "code",
   "execution_count": 9,
   "metadata": {},
   "outputs": [
    {
     "name": "stdout",
     "output_type": "stream",
     "text": [
      "Initial point:  (1, 2)\n"
     ]
    },
    {
     "data": {
      "text/latex": [
       "$\\displaystyle \\textbf{Expression: }0.5 x^{2} + 3 x + 2 y + \\left(0.5 y - 1\\right)^{2} + 7$"
      ],
      "text/plain": [
       "<IPython.core.display.Math object>"
      ]
     },
     "metadata": {},
     "output_type": "display_data"
    },
    {
     "data": {
      "text/latex": [
       "$\\displaystyle \\text{ f'(0,0) = 14.50}$"
      ],
      "text/plain": [
       "<IPython.core.display.Math object>"
      ]
     },
     "metadata": {},
     "output_type": "display_data"
    },
    {
     "data": {
      "text/latex": [
       "$\\displaystyle \\textbf{First derivative respect to X: }1.0 x + 3$"
      ],
      "text/plain": [
       "<IPython.core.display.Math object>"
      ]
     },
     "metadata": {},
     "output_type": "display_data"
    },
    {
     "data": {
      "text/latex": [
       "$\\displaystyle \\textbf{First derivative respect to Y: }0.5 y + 1.0$"
      ],
      "text/plain": [
       "<IPython.core.display.Math object>"
      ]
     },
     "metadata": {},
     "output_type": "display_data"
    },
    {
     "data": {
      "text/latex": [
       "$\\displaystyle \\textbf{First derivative respect to XX: }1.0$"
      ],
      "text/plain": [
       "<IPython.core.display.Math object>"
      ]
     },
     "metadata": {},
     "output_type": "display_data"
    },
    {
     "data": {
      "text/latex": [
       "$\\displaystyle \\textbf{First derivative respect to YY: }0.5$"
      ],
      "text/plain": [
       "<IPython.core.display.Math object>"
      ]
     },
     "metadata": {},
     "output_type": "display_data"
    },
    {
     "data": {
      "text/latex": [
       "$\\displaystyle \\textbf{First derivative respect to XY: }0$"
      ],
      "text/plain": [
       "<IPython.core.display.Math object>"
      ]
     },
     "metadata": {},
     "output_type": "display_data"
    },
    {
     "data": {
      "text/latex": [
       "$\\displaystyle \\textbf{First derivative respect to YX: }0$"
      ],
      "text/plain": [
       "<IPython.core.display.Math object>"
      ]
     },
     "metadata": {},
     "output_type": "display_data"
    },
    {
     "data": {
      "text/latex": [
       "$\\displaystyle \\text{Gradient matrix =>} \\nabla f(x,y):\\left[\\begin{matrix}4.0\\\\2.0\\end{matrix}\\right]$"
      ],
      "text/plain": [
       "<IPython.core.display.Math object>"
      ]
     },
     "metadata": {},
     "output_type": "display_data"
    },
    {
     "data": {
      "text/latex": [
       "$\\displaystyle \\textbf{Hessian matrix: }\\left[\\begin{matrix}1.0 & 0\\\\0 & 0.5\\end{matrix}\\right]$"
      ],
      "text/plain": [
       "<IPython.core.display.Math object>"
      ]
     },
     "metadata": {},
     "output_type": "display_data"
    },
    {
     "data": {
      "text/latex": [
       "$\\displaystyle \\text{Hessian matrix2:} \\left[\\begin{matrix}1.0 & 0\\\\0 & 2.0\\end{matrix}\\right]$"
      ],
      "text/plain": [
       "<IPython.core.display.Math object>"
      ]
     },
     "metadata": {},
     "output_type": "display_data"
    },
    {
     "data": {
      "text/latex": [
       "$\\displaystyle \\text{New newton point:} \\left[\\begin{matrix}-3.0\\\\-2.0\\end{matrix}\\right]$"
      ],
      "text/plain": [
       "<IPython.core.display.Math object>"
      ]
     },
     "metadata": {},
     "output_type": "display_data"
    }
   ],
   "source": [
    "# -----------------\n",
    "# Newton's method\n",
    "# =================\n",
    "\"\"\"\n",
    "Testing derivative functions using sympy\n",
    "\"\"\"\n",
    "from sympy import *\n",
    "# Helper function to display in latex format\n",
    "from IPython.display import display, Math\n",
    "\n",
    "x, y = symbols('x y')\n",
    "init_printing(use_unicode=True, use_latex=True)\n",
    "\n",
    "expr = 0.5*x**2 + (y*0.5 - 1)**2 + 3*x + 2*y + 7  # (0.5*x-y)**4 + (y - 1)**2\n",
    "initialPoint = (1, 2)\n",
    "print(\"Initial point: \", initialPoint)\n",
    "\n",
    "display(Math('\\\\textbf{Expression: }' + latex(expr)))\n",
    "display(Math(\"\\\\text{ f'(0,0) = %.2f}\" % expr.evalf(\n",
    "    subs={x: initialPoint[0], y: initialPoint[1]})))\n",
    "\n",
    "\n",
    "# Use sympy.Derivative() method\n",
    "derivate_x = diff(expr, x)\n",
    "derivate_y = diff(expr, y)\n",
    "\n",
    "display(Math('\\\\textbf{First derivative respect to X: }' + latex(derivate_x)))\n",
    "display(Math('\\\\textbf{First derivative respect to Y: }' + latex(derivate_y)))\n",
    "\n",
    "derivate_x2 = diff(derivate_x, x)  # second derivative\n",
    "derivate_y2 = diff(derivate_y, y)  # second derivative\n",
    "\n",
    "display(\n",
    "    Math('\\\\textbf{First derivative respect to XX: }' + latex(derivate_x2)))\n",
    "display(\n",
    "    Math('\\\\textbf{First derivative respect to YY: }' + latex(derivate_y2)))\n",
    "\n",
    "derivate_xy = diff(derivate_x, y)  # second derivative\n",
    "derivate_yx = diff(derivate_y, x)  # second derivative\n",
    "\n",
    "display(\n",
    "    Math('\\\\textbf{First derivative respect to XY: }' + latex(derivate_xy)))\n",
    "display(\n",
    "    Math('\\\\textbf{First derivative respect to YX: }' + latex(derivate_yx)))\n",
    "\n",
    "# gradient matrix\n",
    "gradient_matrix = Matrix([\n",
    "    [derivate_x.evalf(subs={x: initialPoint[0], y: initialPoint[1]}), derivate_y.evalf(\n",
    "        subs={x: initialPoint[0], y: initialPoint[1]})],\n",
    "]).transpose()\n",
    "display(\n",
    "    Math('\\\\text{Gradient matrix =>} \\\\nabla f(x,y):' + latex(gradient_matrix)))\n",
    "\n",
    "\n",
    "# Hessian Matrix\n",
    "hessian_matrix = Matrix([\n",
    "    [derivate_x2.evalf(subs={x: initialPoint[0], y: initialPoint[1]}),\n",
    "     derivate_xy.evalf(subs={x: initialPoint[0], y: initialPoint[1]})],\n",
    "    [derivate_yx.evalf(subs={x: initialPoint[0], y: initialPoint[1]}),\n",
    "     derivate_y2.evalf(subs={x: initialPoint[0], y: initialPoint[1]})]\n",
    "])\n",
    "display(Math('\\\\textbf{Hessian matrix: }' + latex(hessian_matrix)))\n",
    "display(Math(\"\\\\text{Hessian matrix2:} \" + latex(hessian_matrix.inv())))\n",
    "\n",
    "# I need the gradient matrix\n",
    "# I need to evaluate the fucntions\n",
    "initial_point = Matrix([[initialPoint[0], initialPoint[1]]]).transpose()\n",
    "\n",
    "new_point_newton = initial_point - hessian_matrix.inv() * gradient_matrix\n",
    "display(Math(\"\\\\text{New newton point:} \" + latex(new_point_newton)))\n"
   ]
  }
 ],
 "metadata": {
  "kernelspec": {
   "display_name": "Python 3.8.10 64-bit",
   "language": "python",
   "name": "python3"
  },
  "language_info": {
   "codemirror_mode": {
    "name": "ipython",
    "version": 3
   },
   "file_extension": ".py",
   "mimetype": "text/x-python",
   "name": "python",
   "nbconvert_exporter": "python",
   "pygments_lexer": "ipython3",
   "version": "3.8.10"
  },
  "orig_nbformat": 4,
  "vscode": {
   "interpreter": {
    "hash": "916dbcbb3f70747c44a77c7bcd40155683ae19c65e1c03b4aa3499c5328201f1"
   }
  }
 },
 "nbformat": 4,
 "nbformat_minor": 2
}
