{
 "cells": [
  {
   "cell_type": "code",
   "execution_count": 2,
   "metadata": {},
   "outputs": [
    {
     "data": {
      "text/latex": [
       "$\\displaystyle \\textbf{Expression: }x^{4} + y^{4}$"
      ],
      "text/plain": [
       "<IPython.core.display.Math object>"
      ]
     },
     "metadata": {},
     "output_type": "display_data"
    },
    {
     "data": {
      "text/latex": [
       "$\\displaystyle \\text{ f'(1,1) = 2.00}$"
      ],
      "text/plain": [
       "<IPython.core.display.Math object>"
      ]
     },
     "metadata": {},
     "output_type": "display_data"
    },
    {
     "data": {
      "text/latex": [
       "$\\displaystyle \\textbf{First derivative respect to X: }4 x^{3}$"
      ],
      "text/plain": [
       "<IPython.core.display.Math object>"
      ]
     },
     "metadata": {},
     "output_type": "display_data"
    },
    {
     "data": {
      "text/latex": [
       "$\\displaystyle \\textbf{First derivative respect to Y: }4 y^{3}$"
      ],
      "text/plain": [
       "<IPython.core.display.Math object>"
      ]
     },
     "metadata": {},
     "output_type": "display_data"
    },
    {
     "data": {
      "text/latex": [
       "$\\displaystyle \\textbf{First derivative respect to XX: }12 x^{2}$"
      ],
      "text/plain": [
       "<IPython.core.display.Math object>"
      ]
     },
     "metadata": {},
     "output_type": "display_data"
    },
    {
     "data": {
      "text/latex": [
       "$\\displaystyle \\textbf{First derivative respect to YY: }12 y^{2}$"
      ],
      "text/plain": [
       "<IPython.core.display.Math object>"
      ]
     },
     "metadata": {},
     "output_type": "display_data"
    },
    {
     "data": {
      "text/latex": [
       "$\\displaystyle \\textbf{First derivative respect to XY: }0$"
      ],
      "text/plain": [
       "<IPython.core.display.Math object>"
      ]
     },
     "metadata": {},
     "output_type": "display_data"
    },
    {
     "data": {
      "text/latex": [
       "$\\displaystyle \\textbf{First derivative respect to YX: }0$"
      ],
      "text/plain": [
       "<IPython.core.display.Math object>"
      ]
     },
     "metadata": {},
     "output_type": "display_data"
    },
    {
     "data": {
      "text/latex": [
       "$\\displaystyle \\text{Gradient matrix =>} \\nabla f(x,y):\\left[\\begin{matrix}4.0\\\\4.0\\end{matrix}\\right]$"
      ],
      "text/plain": [
       "<IPython.core.display.Math object>"
      ]
     },
     "metadata": {},
     "output_type": "display_data"
    },
    {
     "data": {
      "text/latex": [
       "$\\displaystyle \\textbf{Hessian matrix: }\\left[\\begin{matrix}12.0 & 0\\\\0 & 12.0\\end{matrix}\\right]$"
      ],
      "text/plain": [
       "<IPython.core.display.Math object>"
      ]
     },
     "metadata": {},
     "output_type": "display_data"
    },
    {
     "data": {
      "text/latex": [
       "$\\displaystyle \\text{Hessian matrix inverse:} \\left[\\begin{matrix}0.0833333333333333 & 0\\\\0 & 0.0833333333333333\\end{matrix}\\right]$"
      ],
      "text/plain": [
       "<IPython.core.display.Math object>"
      ]
     },
     "metadata": {},
     "output_type": "display_data"
    },
    {
     "data": {
      "text/latex": [
       "$\\displaystyle \\text{New newton point:} \\left[\\begin{matrix}0.666666666666667\\\\0.666666666666667\\end{matrix}\\right]$"
      ],
      "text/plain": [
       "<IPython.core.display.Math object>"
      ]
     },
     "metadata": {},
     "output_type": "display_data"
    },
    {
     "data": {
      "text/latex": [
       "$\\displaystyle \\text{Previous point : } \\left[\\begin{matrix}0.666666666666667 & 0.666666666666667\\end{matrix}\\right]$"
      ],
      "text/plain": [
       "<IPython.core.display.Math object>"
      ]
     },
     "metadata": {},
     "output_type": "display_data"
    },
    {
     "data": {
      "text/latex": [
       "$\\displaystyle \\text{Gradient at new point: } \\nabla f(x_1,y_1)=\\left[\\begin{matrix}1.20263120532036\\\\1.20263120532036\\end{matrix}\\right]$"
      ],
      "text/plain": [
       "<IPython.core.display.Math object>"
      ]
     },
     "metadata": {},
     "output_type": "display_data"
    },
    {
     "data": {
      "text/latex": [
       "$\\displaystyle d^1 = x^1 - x^0 =\\left[\\begin{matrix}-0.333333333333333\\\\-0.333333333333333\\end{matrix}\\right]$"
      ],
      "text/plain": [
       "<IPython.core.display.Math object>"
      ]
     },
     "metadata": {},
     "output_type": "display_data"
    },
    {
     "data": {
      "text/latex": [
       "$\\displaystyle g^1 = \\nabla f(x_1,y_1) - \\nabla f(x_0,y_0) =\\left[\\begin{matrix}-2.79736879467964\\\\-2.79736879467964\\end{matrix}\\right]$"
      ],
      "text/plain": [
       "<IPython.core.display.Math object>"
      ]
     },
     "metadata": {},
     "output_type": "display_data"
    },
    {
     "name": "stdout",
     "output_type": "stream",
     "text": [
      "divide matrix by:  0.1554\n"
     ]
    },
    {
     "data": {
      "text/latex": [
       "$\\displaystyle  (A^1)^-1 =\\left[\\begin{matrix}0.101246464290653 & 0.0179131309573193\\\\0.0179131309573193 & 0.101246464290653\\end{matrix}\\right]$"
      ],
      "text/plain": [
       "<IPython.core.display.Math object>"
      ]
     },
     "metadata": {},
     "output_type": "display_data"
    },
    {
     "data": {
      "text/latex": [
       "$\\displaystyle  (x_2,y_2) =\\left[\\begin{matrix}0.523361619008112\\\\0.523361619008112\\end{matrix}\\right]$"
      ],
      "text/plain": [
       "<IPython.core.display.Math object>"
      ]
     },
     "metadata": {},
     "output_type": "display_data"
    }
   ],
   "source": [
    "# ---------------------\n",
    "# Broyden's method\n",
    "# Post process method\n",
    "# =====================\n",
    "\n",
    "from sympy import *\n",
    "# Helper function to display in latex format\n",
    "from IPython.display import display, Math\n",
    "\n",
    "x, y = symbols('x y')\n",
    "init_printing(use_unicode=True, use_latex=True)\n",
    "\n",
    "expr = x**4 + y**4\n",
    "initialPoint = (1, 1)\n",
    "\n",
    "display(Math('\\\\textbf{Expression: }' + latex(expr)))\n",
    "display(Math(\"\\\\text{ f'(1,1) = %.2f}\" % expr.evalf(\n",
    "    subs={x: initialPoint[0], y: initialPoint[1]})))\n",
    "\n",
    "# ===============\n",
    "# Newton's Method\n",
    "# ===============\n",
    "# Use sympy.Derivative() method\n",
    "derivate_x = diff(expr, x)\n",
    "derivate_y = diff(expr, y)\n",
    "\n",
    "display(Math('\\\\textbf{First derivative respect to X: }' + latex(derivate_x)))\n",
    "display(Math('\\\\textbf{First derivative respect to Y: }' + latex(derivate_y)))\n",
    "\n",
    "derivate_x2 = diff(derivate_x, x)  # second derivative\n",
    "derivate_y2 = diff(derivate_y, y)  # second derivative\n",
    "\n",
    "display(\n",
    "    Math('\\\\textbf{First derivative respect to XX: }' + latex(derivate_x2)))\n",
    "display(\n",
    "    Math('\\\\textbf{First derivative respect to YY: }' + latex(derivate_y2)))\n",
    "\n",
    "derivate_xy = diff(derivate_x, y)  # second derivative\n",
    "derivate_yx = diff(derivate_y, x)  # second derivative\n",
    "\n",
    "display(\n",
    "    Math('\\\\textbf{First derivative respect to XY: }' + latex(derivate_xy)))\n",
    "display(\n",
    "    Math('\\\\textbf{First derivative respect to YX: }' + latex(derivate_yx)))\n",
    "\n",
    "# gradient matrix\n",
    "gradient_matrix = Matrix([\n",
    "    [derivate_x.evalf(subs={x: initialPoint[0], y: initialPoint[1]}),\n",
    "        derivate_y.evalf(subs={x: initialPoint[0], y: initialPoint[1]})],\n",
    "]).transpose()\n",
    "display(\n",
    "    Math('\\\\text{Gradient matrix =>} \\\\nabla f(x,y):' + latex(gradient_matrix)))\n",
    "\n",
    "\n",
    "# Hessian Matrix\n",
    "hessian_matrix = Matrix([\n",
    "    [derivate_x2.evalf(subs={x: initialPoint[0], y: initialPoint[1]}),\n",
    "     derivate_xy.evalf(subs={x: initialPoint[0], y: initialPoint[1]})],\n",
    "    [derivate_yx.evalf(subs={x: initialPoint[0], y: initialPoint[1]}),\n",
    "     derivate_y2.evalf(subs={x: initialPoint[0], y: initialPoint[1]})]\n",
    "])\n",
    "display(Math('\\\\textbf{Hessian matrix: }' + latex(hessian_matrix)))\n",
    "display(Math(\"\\\\text{Hessian matrix inverse:} \" + latex(hessian_matrix.inv())))\n",
    "\n",
    "# I need the gradient matrix\n",
    "# I need to evaluate the fucntions\n",
    "initial_point = Matrix([[initialPoint[0], initialPoint[1]]]).transpose()\n",
    "\n",
    "new_point_newton = initial_point - hessian_matrix.inv() * gradient_matrix\n",
    "display(Math(\"\\\\text{New newton point:} \" + latex(new_point_newton)))\n",
    "\n",
    "# ================ end Newton\n",
    "\n",
    "# ---------------------\n",
    "# Broyden's method\n",
    "# Post process method\n",
    "# =====================\n",
    "# calculate gradient at point calculated before\n",
    "previous_point = new_point_newton\n",
    "display(Math(\"\\\\text{Previous point : } \" + latex(new_point_newton.transpose())))\n",
    "\n",
    "gradient_matrix_new_point = Matrix([\n",
    "    [derivate_x.evalf(subs={x: round(new_point_newton[0], 2), y: round(new_point_newton[1], 2)}),\n",
    "     derivate_y.evalf(subs={x: round(new_point_newton[0], 2), y: round(new_point_newton[1], 2)})],\n",
    "]).transpose()\n",
    "display(Math(\"\\\\text{Gradient at new point: } \\\\nabla f(x_1,y_1)=\" + latex(gradient_matrix_new_point)))\n",
    "\n",
    "# calculate d1\n",
    "d1 = new_point_newton - initial_point\n",
    "display(Math(\"d^1 = x^1 - x^0 =\" + latex(d1)))\n",
    "\n",
    "g1 = gradient_matrix_new_point - gradient_matrix\n",
    "display(Math(\"g^1 = \\\\nabla f(x_1,y_1) - \\\\nabla f(x_0,y_0) =\" + latex(g1)))\n",
    "\n",
    "# returns a constant -> so divide the matrix by a constant not by the matrix itself\n",
    "part_1 = Transpose(d1) * hessian_matrix.inv() * g1\n",
    "A1_1 = hessian_matrix.inv() - (((hessian_matrix.inv() * g1 - d1) *\n",
    "                               Transpose(d1) * hessian_matrix.inv()) * 1 / part_1[0])\n",
    "\n",
    "print(\"divide matrix by: \", part_1[0].round(4))\n",
    "display(Math(\" (A^1)^-1 =\" + latex(A1_1)))\n",
    "\n",
    "# calculate next iteration point\n",
    "\n",
    "next_point_broydens = new_point_newton - A1_1 * gradient_matrix_new_point\n",
    "display(Math(\" (x_2,y_2) =\" + latex(next_point_broydens)))\n"
   ]
  }
 ],
 "metadata": {
  "kernelspec": {
   "display_name": "Python 3.8.10 64-bit",
   "language": "python",
   "name": "python3"
  },
  "language_info": {
   "codemirror_mode": {
    "name": "ipython",
    "version": 3
   },
   "file_extension": ".py",
   "mimetype": "text/x-python",
   "name": "python",
   "nbconvert_exporter": "python",
   "pygments_lexer": "ipython3",
   "version": "3.8.10"
  },
  "orig_nbformat": 4,
  "vscode": {
   "interpreter": {
    "hash": "916dbcbb3f70747c44a77c7bcd40155683ae19c65e1c03b4aa3499c5328201f1"
   }
  }
 },
 "nbformat": 4,
 "nbformat_minor": 2
}
