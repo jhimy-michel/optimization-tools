{
 "cells": [
  {
   "cell_type": "code",
   "execution_count": 4,
   "metadata": {},
   "outputs": [
    {
     "data": {
      "text/latex": [
       "$\\displaystyle \\text{Previous point : } \\left[\\begin{matrix}3.9 & 0.8\\end{matrix}\\right]$"
      ],
      "text/plain": [
       "<IPython.core.display.Math object>"
      ]
     },
     "metadata": {},
     "output_type": "display_data"
    },
    {
     "data": {
      "text/latex": [
       "$\\displaystyle \\text{Gradient at prev point: } \\nabla f(x_0,y_0)=\\left[\\begin{matrix}1 & 0\\end{matrix}\\right]$"
      ],
      "text/plain": [
       "<IPython.core.display.Math object>"
      ]
     },
     "metadata": {},
     "output_type": "display_data"
    },
    {
     "data": {
      "text/latex": [
       "$\\displaystyle \\text{Gradient at new point: } \\nabla f(x_1,y_1)=\\left[\\begin{matrix}0 & 1\\end{matrix}\\right]$"
      ],
      "text/plain": [
       "<IPython.core.display.Math object>"
      ]
     },
     "metadata": {},
     "output_type": "display_data"
    },
    {
     "data": {
      "text/latex": [
       "$\\displaystyle \\text{Hessian Matrix: } A_0^-1=\\left[\\begin{matrix}5 & 0\\\\0 & 2\\end{matrix}\\right]$"
      ],
      "text/plain": [
       "<IPython.core.display.Math object>"
      ]
     },
     "metadata": {},
     "output_type": "display_data"
    },
    {
     "data": {
      "text/latex": [
       "$\\displaystyle \\text{New Point: } f(x_1,y_1)=\\left[\\begin{matrix}-1.1 & 0.8\\end{matrix}\\right]$"
      ],
      "text/plain": [
       "<IPython.core.display.Math object>"
      ]
     },
     "metadata": {},
     "output_type": "display_data"
    },
    {
     "data": {
      "text/latex": [
       "$\\displaystyle d^1 = x^1 - x^0 =\\left[\\begin{matrix}-5.0\\\\0\\end{matrix}\\right]$"
      ],
      "text/plain": [
       "<IPython.core.display.Math object>"
      ]
     },
     "metadata": {},
     "output_type": "display_data"
    },
    {
     "data": {
      "text/latex": [
       "$\\displaystyle g^1 = \\nabla f(x_1,y_1) - \\nabla f(x_0,y_0) =\\left[\\begin{matrix}-1 & 1\\end{matrix}\\right]$"
      ],
      "text/plain": [
       "<IPython.core.display.Math object>"
      ]
     },
     "metadata": {},
     "output_type": "display_data"
    },
    {
     "name": "stdout",
     "output_type": "stream",
     "text": [
      "divide matrix by:  25.0000000000000\n"
     ]
    },
    {
     "data": {
      "text/latex": [
       "$\\displaystyle  (A_1)^-1 =\\left[\\begin{matrix}5 & 0\\\\2.0 & 2\\end{matrix}\\right]$"
      ],
      "text/plain": [
       "<IPython.core.display.Math object>"
      ]
     },
     "metadata": {},
     "output_type": "display_data"
    },
    {
     "name": "stdout",
     "output_type": "stream",
     "text": [
      "xd:  Matrix([[0], [2]])\n"
     ]
    },
    {
     "data": {
      "text/latex": [
       "$\\displaystyle \\text{Broydens Point: } (x_2,y_2) =\\left[\\begin{matrix}-1.1\\\\-1.2\\end{matrix}\\right]$"
      ],
      "text/plain": [
       "<IPython.core.display.Math object>"
      ]
     },
     "metadata": {},
     "output_type": "display_data"
    }
   ],
   "source": [
    "from IPython.display import display, Math\n",
    "from sympy import *\n",
    "# Helper function to display in latex format\n",
    "\n",
    "# ---------------------\n",
    "# Broyden's method\n",
    "# Post process method\n",
    "# =====================\n",
    "# calculate gradient at point calculated before\n",
    "\n",
    "previous_point = Matrix([[3.9], [0.8]])\n",
    "display(Math(\"\\\\text{Previous point : } \" + latex(previous_point.transpose())))\n",
    "\n",
    "gradient_prev_point = Matrix([[1], [0]]).transpose()\n",
    "display(Math(\n",
    "    \"\\\\text{Gradient at prev point: } \\\\nabla f(x_0,y_0)=\" + latex(gradient_prev_point)))\n",
    "\n",
    "gradient_matrix_new_point = Matrix([\n",
    "    [0], [1]\n",
    "]).transpose()\n",
    "display(Math(\"\\\\text{Gradient at new point: } \\\\nabla f(x_1,y_1)=\" +\n",
    "        latex(gradient_matrix_new_point)))\n",
    "\n",
    "hessian_matrix = Matrix([[5, 0], [0, 2]])\n",
    "display(Math(\"\\\\text{Hessian Matrix: } A_0^-1=\" + latex(hessian_matrix)))\n",
    "\n",
    "# calculating new point\n",
    "x1_y1_point = previous_point - hessian_matrix * gradient_prev_point.transpose()\n",
    "display(Math(\"\\\\text{New Point: } f(x_1,y_1)=\" +\n",
    "        latex(x1_y1_point.transpose())))\n",
    "\n",
    "# calculate d1\n",
    "d1 = x1_y1_point - previous_point\n",
    "display(Math(\"d^1 = x^1 - x^0 =\" + latex(d1)))\n",
    "\n",
    "g1 = gradient_matrix_new_point - gradient_prev_point\n",
    "display(Math(\"g^1 = \\\\nabla f(x_1,y_1) - \\\\nabla f(x_0,y_0) =\" + latex(g1)))\n",
    "\n",
    "# returns a constant -> so divide the matrix by a constant not by the matrix itself\n",
    "part_1 = d1.transpose() * hessian_matrix * g1.transpose()\n",
    "print(\"divide matrix by: \", part_1[0].round(3))\n",
    "\n",
    "A1_1 = hessian_matrix - (((hessian_matrix * g1.transpose() - d1) *\n",
    "                          Transpose(d1) * hessian_matrix) * 1 / part_1[0])\n",
    "\n",
    "\n",
    "display(Math(\" (A_1)^-1 =\" + latex(A1_1)))\n",
    "\n",
    "# calculate next iteration point\n",
    "xd = A1_1 * gradient_matrix_new_point.transpose()\n",
    "print(\"xd: \", xd)\n",
    "next_point_broydens = x1_y1_point - A1_1 * gradient_matrix_new_point.transpose()\n",
    "display(Math(\"\\\\text{Broydens Point: } (x_2,y_2) =\" +\n",
    "        latex(next_point_broydens)))\n"
   ]
  }
 ],
 "metadata": {
  "kernelspec": {
   "display_name": "Python 3.8.10 64-bit",
   "language": "python",
   "name": "python3"
  },
  "language_info": {
   "codemirror_mode": {
    "name": "ipython",
    "version": 3
   },
   "file_extension": ".py",
   "mimetype": "text/x-python",
   "name": "python",
   "nbconvert_exporter": "python",
   "pygments_lexer": "ipython3",
   "version": "3.8.10"
  },
  "orig_nbformat": 4,
  "vscode": {
   "interpreter": {
    "hash": "916dbcbb3f70747c44a77c7bcd40155683ae19c65e1c03b4aa3499c5328201f1"
   }
  }
 },
 "nbformat": 4,
 "nbformat_minor": 2
}
