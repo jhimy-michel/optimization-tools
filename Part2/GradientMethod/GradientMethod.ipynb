{
 "cells": [
  {
   "cell_type": "code",
   "execution_count": 1,
   "metadata": {},
   "outputs": [
    {
     "data": {
      "text/latex": [
       "$\\displaystyle \\textbf{Expression: }\\left(x - 2\\right)^{4} + \\left(x - 2 y\\right)^{2}$"
      ],
      "text/plain": [
       "<IPython.core.display.Math object>"
      ]
     },
     "metadata": {},
     "output_type": "display_data"
    },
    {
     "data": {
      "text/latex": [
       "$\\displaystyle \\text{ f'(0,0) = 16.00}$"
      ],
      "text/plain": [
       "<IPython.core.display.Math object>"
      ]
     },
     "metadata": {},
     "output_type": "display_data"
    },
    {
     "data": {
      "text/latex": [
       "$\\displaystyle \\textbf{First derivative respect to X: }2 x - 4 y + 4 \\left(x - 2\\right)^{3}$"
      ],
      "text/plain": [
       "<IPython.core.display.Math object>"
      ]
     },
     "metadata": {},
     "output_type": "display_data"
    },
    {
     "data": {
      "text/latex": [
       "$\\displaystyle \\textbf{First derivative respect to Y: }- 4 x + 8 y$"
      ],
      "text/plain": [
       "<IPython.core.display.Math object>"
      ]
     },
     "metadata": {},
     "output_type": "display_data"
    },
    {
     "data": {
      "text/latex": [
       "$\\displaystyle \\textbf{First derivative respect to XX: }12 \\left(x - 2\\right)^{2} + 2$"
      ],
      "text/plain": [
       "<IPython.core.display.Math object>"
      ]
     },
     "metadata": {},
     "output_type": "display_data"
    },
    {
     "data": {
      "text/latex": [
       "$\\displaystyle \\textbf{First derivative respect to YY: }8$"
      ],
      "text/plain": [
       "<IPython.core.display.Math object>"
      ]
     },
     "metadata": {},
     "output_type": "display_data"
    },
    {
     "data": {
      "text/latex": [
       "$\\displaystyle \\textbf{First derivative respect to XY: }-4$"
      ],
      "text/plain": [
       "<IPython.core.display.Math object>"
      ]
     },
     "metadata": {},
     "output_type": "display_data"
    },
    {
     "data": {
      "text/latex": [
       "$\\displaystyle \\textbf{First derivative respect to YX: }-4$"
      ],
      "text/plain": [
       "<IPython.core.display.Math object>"
      ]
     },
     "metadata": {},
     "output_type": "display_data"
    },
    {
     "data": {
      "text/latex": [
       "$\\displaystyle \\text{Gradient matrix =>} \\nabla f(x,y):\\left[\\begin{matrix}-32.0\\\\0\\end{matrix}\\right]$"
      ],
      "text/plain": [
       "<IPython.core.display.Math object>"
      ]
     },
     "metadata": {},
     "output_type": "display_data"
    },
    {
     "data": {
      "text/latex": [
       "$\\displaystyle \\textbf{Hessian matrix: }\\left[\\begin{matrix}50.0 & -4.0\\\\-4.0 & 8.0\\end{matrix}\\right]$"
      ],
      "text/plain": [
       "<IPython.core.display.Math object>"
      ]
     },
     "metadata": {},
     "output_type": "display_data"
    },
    {
     "data": {
      "text/latex": [
       "$\\displaystyle \\textbf{--------- Iterating -------}$"
      ],
      "text/plain": [
       "<IPython.core.display.Math object>"
      ]
     },
     "metadata": {},
     "output_type": "display_data"
    },
    {
     "data": {
      "text/latex": [
       "$\\displaystyle \\beta: 1$"
      ],
      "text/plain": [
       "<IPython.core.display.Math object>"
      ]
     },
     "metadata": {},
     "output_type": "display_data"
    },
    {
     "data": {
      "text/latex": [
       "$\\displaystyle (x1,y1): \\left[\\begin{matrix}32.0\\\\0\\end{matrix}\\right]$"
      ],
      "text/plain": [
       "<IPython.core.display.Math object>"
      ]
     },
     "metadata": {},
     "output_type": "display_data"
    },
    {
     "data": {
      "text/latex": [
       "$\\displaystyle f(x1,y1): 811024.0$"
      ],
      "text/plain": [
       "<IPython.core.display.Math object>"
      ]
     },
     "metadata": {},
     "output_type": "display_data"
    },
    {
     "data": {
      "text/latex": [
       "$\\displaystyle \\beta: 0.5$"
      ],
      "text/plain": [
       "<IPython.core.display.Math object>"
      ]
     },
     "metadata": {},
     "output_type": "display_data"
    },
    {
     "data": {
      "text/latex": [
       "$\\displaystyle (x1,y1): \\left[\\begin{matrix}16.0\\\\0\\end{matrix}\\right]$"
      ],
      "text/plain": [
       "<IPython.core.display.Math object>"
      ]
     },
     "metadata": {},
     "output_type": "display_data"
    },
    {
     "data": {
      "text/latex": [
       "$\\displaystyle f(x1,y1): 38672.0$"
      ],
      "text/plain": [
       "<IPython.core.display.Math object>"
      ]
     },
     "metadata": {},
     "output_type": "display_data"
    },
    {
     "data": {
      "text/latex": [
       "$\\displaystyle \\beta: 0.25$"
      ],
      "text/plain": [
       "<IPython.core.display.Math object>"
      ]
     },
     "metadata": {},
     "output_type": "display_data"
    },
    {
     "data": {
      "text/latex": [
       "$\\displaystyle (x1,y1): \\left[\\begin{matrix}8.0\\\\0\\end{matrix}\\right]$"
      ],
      "text/plain": [
       "<IPython.core.display.Math object>"
      ]
     },
     "metadata": {},
     "output_type": "display_data"
    },
    {
     "data": {
      "text/latex": [
       "$\\displaystyle f(x1,y1): 1360.0$"
      ],
      "text/plain": [
       "<IPython.core.display.Math object>"
      ]
     },
     "metadata": {},
     "output_type": "display_data"
    },
    {
     "data": {
      "text/latex": [
       "$\\displaystyle \\beta: 0.125$"
      ],
      "text/plain": [
       "<IPython.core.display.Math object>"
      ]
     },
     "metadata": {},
     "output_type": "display_data"
    },
    {
     "data": {
      "text/latex": [
       "$\\displaystyle (x1,y1): \\left[\\begin{matrix}4.0\\\\0\\end{matrix}\\right]$"
      ],
      "text/plain": [
       "<IPython.core.display.Math object>"
      ]
     },
     "metadata": {},
     "output_type": "display_data"
    },
    {
     "data": {
      "text/latex": [
       "$\\displaystyle f(x1,y1): 32.0$"
      ],
      "text/plain": [
       "<IPython.core.display.Math object>"
      ]
     },
     "metadata": {},
     "output_type": "display_data"
    },
    {
     "data": {
      "text/latex": [
       "$\\displaystyle \\beta: 0.0625$"
      ],
      "text/plain": [
       "<IPython.core.display.Math object>"
      ]
     },
     "metadata": {},
     "output_type": "display_data"
    },
    {
     "data": {
      "text/latex": [
       "$\\displaystyle (x1,y1): \\left[\\begin{matrix}2.0\\\\0\\end{matrix}\\right]$"
      ],
      "text/plain": [
       "<IPython.core.display.Math object>"
      ]
     },
     "metadata": {},
     "output_type": "display_data"
    },
    {
     "data": {
      "text/latex": [
       "$\\displaystyle f(x1,y1): 4.0$"
      ],
      "text/plain": [
       "<IPython.core.display.Math object>"
      ]
     },
     "metadata": {},
     "output_type": "display_data"
    },
    {
     "data": {
      "text/latex": [
       "$\\displaystyle 4.0 < 16.0$"
      ],
      "text/plain": [
       "<IPython.core.display.Math object>"
      ]
     },
     "metadata": {},
     "output_type": "display_data"
    },
    {
     "data": {
      "text/latex": [
       "$\\displaystyle \\textbf{Next iteration point detected!}$"
      ],
      "text/plain": [
       "<IPython.core.display.Math object>"
      ]
     },
     "metadata": {},
     "output_type": "display_data"
    },
    {
     "data": {
      "text/latex": [
       "$\\displaystyle x^1 =\\left[\\begin{matrix}2.0\\\\0\\end{matrix}\\right]$"
      ],
      "text/plain": [
       "<IPython.core.display.Math object>"
      ]
     },
     "metadata": {},
     "output_type": "display_data"
    }
   ],
   "source": [
    "\"\"\"\n",
    "Testing derivative functions using sympy\n",
    "\"\"\"\n",
    "from sympy import *\n",
    "# Helper function to display in latex format\n",
    "from IPython.display import display, Math\n",
    "\n",
    "x, y = symbols('x y')\n",
    "init_printing(use_unicode=True, use_latex=True)\n",
    "\n",
    "expr = x**4 + y**4\n",
    "initialPoint = (0,0)\n",
    "\n",
    "display(Math('\\\\textbf{Expression: }' + latex(expr)))\n",
    "display(Math(\"\\\\text{ f'(0,0) = %.2f}\" % expr.evalf(\n",
    "    subs={x: initialPoint[0], y: initialPoint[1]})))\n",
    "\n",
    "\n",
    "# Use sympy.Derivative() method\n",
    "derivate_x = diff(expr, x)\n",
    "derivate_y = diff(expr, y)\n",
    "\n",
    "display(Math('\\\\textbf{First derivative respect to X: }' + latex(derivate_x)))\n",
    "display(Math('\\\\textbf{First derivative respect to Y: }' + latex(derivate_y)))\n",
    "\n",
    "derivate_x2 = diff(derivate_x, x)  # second derivative\n",
    "derivate_y2 = diff(derivate_y, y)  # second derivative\n",
    "\n",
    "display(\n",
    "    Math('\\\\textbf{First derivative respect to XX: }' + latex(derivate_x2)))\n",
    "display(\n",
    "    Math('\\\\textbf{First derivative respect to YY: }' + latex(derivate_y2)))\n",
    "\n",
    "derivate_xy = diff(derivate_x, y)  # second derivative\n",
    "derivate_yx = diff(derivate_y, x)  # second derivative\n",
    "\n",
    "display(\n",
    "    Math('\\\\textbf{First derivative respect to XY: }' + latex(derivate_xy)))\n",
    "display(\n",
    "    Math('\\\\textbf{First derivative respect to YX: }' + latex(derivate_yx)))\n",
    "\n",
    "# gradient matrix\n",
    "gradient_matrix = Matrix([\n",
    "    [derivate_x.evalf(subs={x: initialPoint[0], y: initialPoint[1]}), derivate_y.evalf(subs={x: initialPoint[0], y: initialPoint[1]})],\n",
    "]).transpose()\n",
    "display(Math('\\\\text{Gradient matrix =>} \\\\nabla f(x,y):' + latex(gradient_matrix)))\n",
    "\n",
    "\n",
    "# Hessian Matrix\n",
    "hessian_matrix = Matrix([\n",
    "    [derivate_x2.evalf(subs={x: initialPoint[0], y: initialPoint[1]}),\n",
    "     derivate_xy.evalf(subs={x: initialPoint[0], y: initialPoint[1]})],\n",
    "    [derivate_yx.evalf(subs={x: initialPoint[0], y: initialPoint[1]}),\n",
    "     derivate_y2.evalf(subs={x: initialPoint[0], y: initialPoint[1]})]\n",
    "])\n",
    "display(Math('\\\\textbf{Hessian matrix: }' + latex(hessian_matrix)))\n",
    "\n",
    "\n",
    "# ---------------------------\n",
    "# Iteration succesive halving\n",
    "# ---------------------------\n",
    "f_init = expr.evalf(subs={x: initialPoint[0], y: initialPoint[1]})\n",
    "\n",
    "# convert initial point into a matrix for operations\n",
    "initial_point = Matrix([[initialPoint[0], initialPoint[1]]]).transpose()\n",
    "\n",
    "beta_var = 1\n",
    "countBreak = 1\n",
    "\n",
    "display(Math('\\\\textbf{--------- Iterating -------}'))\n",
    "while True:\n",
    "\n",
    "    display(Math('\\\\beta: ' + latex(beta_var)))\n",
    "    point = initial_point - beta_var * gradient_matrix\n",
    "\n",
    "    display(Math('(x1,y1): ' + latex(point)))\n",
    "\n",
    "    x_p = point.row(0).col(0)[0]\n",
    "    y_p = point.row(1).col(0)[0]\n",
    "\n",
    "    f_partial = expr.evalf(subs={x: x_p, y: y_p})\n",
    "    display(Math('f(x1,y1): ' + latex(f_partial)))\n",
    "\n",
    "    if(f_partial < f_init):\n",
    "        display(Math(latex(f_partial)+\" < \"+latex(f_init)))\n",
    "        break\n",
    "    else:\n",
    "        beta_var = beta_var / 2\n",
    "    \n",
    "    countBreak = countBreak + 1\n",
    "    if(countBreak>20):\n",
    "        break\n",
    "\n",
    "\n",
    "display(Math('\\\\textbf{Next iteration point detected!}'))\n",
    "display(Math(\"x^1 =\" + latex(point)))\n"
   ]
  },
  {
   "cell_type": "code",
   "execution_count": 2,
   "metadata": {},
   "outputs": [
    {
     "name": "stdout",
     "output_type": "stream",
     "text": [
      "-----------------------------------------------\n"
     ]
    },
    {
     "data": {
      "text/latex": [
       "$\\displaystyle t =0$"
      ],
      "text/plain": [
       "<IPython.core.display.Math object>"
      ]
     },
     "metadata": {},
     "output_type": "display_data"
    },
    {
     "data": {
      "text/latex": [
       "$\\displaystyle f =\\left[\\begin{matrix}0\\\\0\\end{matrix}\\right]$"
      ],
      "text/plain": [
       "<IPython.core.display.Math object>"
      ]
     },
     "metadata": {},
     "output_type": "display_data"
    },
    {
     "data": {
      "text/latex": [
       "$\\displaystyle f =16.0$"
      ],
      "text/plain": [
       "<IPython.core.display.Math object>"
      ]
     },
     "metadata": {},
     "output_type": "display_data"
    },
    {
     "data": {
      "text/latex": [
       "$\\displaystyle t =0.0625$"
      ],
      "text/plain": [
       "<IPython.core.display.Math object>"
      ]
     },
     "metadata": {},
     "output_type": "display_data"
    },
    {
     "data": {
      "text/latex": [
       "$\\displaystyle f =\\left[\\begin{matrix}2.0\\\\0\\end{matrix}\\right]$"
      ],
      "text/plain": [
       "<IPython.core.display.Math object>"
      ]
     },
     "metadata": {},
     "output_type": "display_data"
    },
    {
     "data": {
      "text/latex": [
       "$\\displaystyle f =4.0$"
      ],
      "text/plain": [
       "<IPython.core.display.Math object>"
      ]
     },
     "metadata": {},
     "output_type": "display_data"
    },
    {
     "data": {
      "text/latex": [
       "$\\displaystyle t =0.125$"
      ],
      "text/plain": [
       "<IPython.core.display.Math object>"
      ]
     },
     "metadata": {},
     "output_type": "display_data"
    },
    {
     "data": {
      "text/latex": [
       "$\\displaystyle f =\\left[\\begin{matrix}4.0\\\\0\\end{matrix}\\right]$"
      ],
      "text/plain": [
       "<IPython.core.display.Math object>"
      ]
     },
     "metadata": {},
     "output_type": "display_data"
    },
    {
     "data": {
      "text/latex": [
       "$\\displaystyle f =32.0$"
      ],
      "text/plain": [
       "<IPython.core.display.Math object>"
      ]
     },
     "metadata": {},
     "output_type": "display_data"
    },
    {
     "data": {
      "text/latex": [
       "$\\displaystyle \\textbf{Values for parabola: }\\left[ 16.0, \\  4.0, \\  32.0\\right]$"
      ],
      "text/plain": [
       "<IPython.core.display.Math object>"
      ]
     },
     "metadata": {},
     "output_type": "display_data"
    },
    {
     "data": {
      "text/latex": [
       "$\\displaystyle \\beta^* = 0.05$"
      ],
      "text/plain": [
       "<IPython.core.display.Math object>"
      ]
     },
     "metadata": {},
     "output_type": "display_data"
    },
    {
     "data": {
      "text/latex": [
       "$\\displaystyle x_1,y_1 = \\left[\\begin{matrix}1.6\\\\0\\end{matrix}\\right]$"
      ],
      "text/plain": [
       "<IPython.core.display.Math object>"
      ]
     },
     "metadata": {},
     "output_type": "display_data"
    },
    {
     "data": {
      "text/latex": [
       "$\\displaystyle f(1.6,0) = 2.5856$"
      ],
      "text/plain": [
       "<IPython.core.display.Math object>"
      ]
     },
     "metadata": {},
     "output_type": "display_data"
    },
    {
     "data": {
      "text/latex": [
       "$\\displaystyle \\textbf{Next iteration point : } x^1 = (x_1,y_1) =2.5856$"
      ],
      "text/plain": [
       "<IPython.core.display.Math object>"
      ]
     },
     "metadata": {},
     "output_type": "display_data"
    }
   ],
   "source": [
    "# ----------------------------------------\n",
    "# Parabola Fitting\n",
    "# P(t) = a*t^2 + b*t + c\n",
    "# Compute P(0), P(beta_var), P(2*beta_var)\n",
    "\n",
    "# defining elements of T\n",
    "t = [0, beta_var, 2*beta_var]\n",
    "valMatrix = 0\n",
    "count = 0\n",
    "\n",
    "# ----\n",
    "p_array = []\n",
    "\n",
    "print(\"-----------------------------------------------\")\n",
    "\n",
    "while True:\n",
    "\n",
    "    if count >= len(t):\n",
    "        break\n",
    "    \n",
    "    display(Math(\"t =\" + latex(t[count])))\n",
    "\n",
    "    valMatrix = initial_point - t[count] * gradient_matrix\n",
    "    display(Math(\"f =\" + latex(valMatrix)))\n",
    "\n",
    "    x_p = valMatrix.row(0).col(0)[0]\n",
    "    y_p = valMatrix.row(1).col(0)[0]\n",
    "\n",
    "    f_partial = expr.evalf(subs={x: x_p, y: y_p})\n",
    "    p_array.append(f_partial)\n",
    "    \n",
    "    display(Math(\"f =\" + latex(f_partial)))\n",
    "\n",
    "    count = count + 1\n",
    "\n",
    "# Compute a, b, c\n",
    "display(Math('\\\\textbf{Values for parabola: }' + latex(p_array)))\n",
    "p_0 = p_array[0]\n",
    "p_beta = p_array[1]\n",
    "p_2_beta = p_array[2]\n",
    "\n",
    "# calculating beta new\n",
    "beta_new = (beta_var/2) * ((3*p_0 - 4*p_beta +\n",
    "                            p_2_beta)/(p_0 - 2*p_beta+p_2_beta))\n",
    "\n",
    "display(Math(\"\\\\beta^* = \" + latex(beta_new)))\n",
    "\n",
    "valMatrixParabola = initial_point - beta_new * gradient_matrix\n",
    "display(Math(\"x_1,y_1 = \" + latex(valMatrixParabola)))\n",
    "\n",
    "x_p2 = valMatrixParabola.row(0).col(0)[0]\n",
    "y_p2 = valMatrixParabola.row(1).col(0)[0]\n",
    "\n",
    "parabolaEval = expr.evalf(subs={x: x_p2, y: y_p2})\n",
    "display(Math(\"f(\"+ latex(x_p2)+\",\"+ latex(y_p2)+\") = \" + latex(parabolaEval)))\n",
    "\n",
    "if(parabolaEval < f_partial):\n",
    "    display(Math('\\\\textbf{Next iteration point : } x^1 = (x_1,y_1) =' + latex(parabolaEval)))\n",
    "\n"
   ]
  },
  {
   "cell_type": "code",
   "execution_count": 3,
   "metadata": {},
   "outputs": [
    {
     "data": {
      "text/latex": [
       "$\\displaystyle \\text{Hessian matrix:} \\left[\\begin{matrix}0.0208333333333333 & 0.0104166666666667\\\\0.0104166666666667 & 0.130208333333333\\end{matrix}\\right]$"
      ],
      "text/plain": [
       "<IPython.core.display.Math object>"
      ]
     },
     "metadata": {},
     "output_type": "display_data"
    },
    {
     "data": {
      "text/latex": [
       "$\\displaystyle \\text{New newton point:} \\left[\\begin{matrix}0.666666666666667\\\\0.333333333333333\\end{matrix}\\right]$"
      ],
      "text/plain": [
       "<IPython.core.display.Math object>"
      ]
     },
     "metadata": {},
     "output_type": "display_data"
    }
   ],
   "source": [
    "# -----------------\n",
    "# Newton's method\n",
    "# =================\n",
    "display(Math(\"\\\\text{Hessian matrix:} \" + latex(hessian_matrix.inv())))\n",
    "\n",
    "new_point_newton = initial_point - hessian_matrix.inv() * gradient_matrix\n",
    "display(Math(\"\\\\text{New newton point:} \" + latex(new_point_newton)))"
   ]
  },
  {
   "cell_type": "code",
   "execution_count": 4,
   "metadata": {},
   "outputs": [
    {
     "data": {
      "text/latex": [
       "$\\displaystyle \\text{Previous point : } \\left[\\begin{matrix}0.666666666666667 & 0.333333333333333\\end{matrix}\\right]$"
      ],
      "text/plain": [
       "<IPython.core.display.Math object>"
      ]
     },
     "metadata": {},
     "output_type": "display_data"
    },
    {
     "data": {
      "text/latex": [
       "$\\displaystyle \\text{Gradient at new point: } \\nabla f(x_1,y_1)=\\left[\\begin{matrix}-9.39267519116402\\\\-0.0390625\\end{matrix}\\right]$"
      ],
      "text/plain": [
       "<IPython.core.display.Math object>"
      ]
     },
     "metadata": {},
     "output_type": "display_data"
    },
    {
     "data": {
      "text/latex": [
       "$\\displaystyle d^1 = x^1 - x^0 =\\left[\\begin{matrix}0.666666666666667\\\\0.333333333333333\\end{matrix}\\right]$"
      ],
      "text/plain": [
       "<IPython.core.display.Math object>"
      ]
     },
     "metadata": {},
     "output_type": "display_data"
    },
    {
     "data": {
      "text/latex": [
       "$\\displaystyle g^1 = \\nabla f(x_1,y_1) - \\nabla f(x_0,y_0) =\\left[\\begin{matrix}22.607324808836\\\\-0.0390625\\end{matrix}\\right]$"
      ],
      "text/plain": [
       "<IPython.core.display.Math object>"
      ]
     },
     "metadata": {},
     "output_type": "display_data"
    },
    {
     "name": "stdout",
     "output_type": "stream",
     "text": [
      "divide matrix by:  0.390521589563125\n"
     ]
    },
    {
     "data": {
      "text/latex": [
       "$\\displaystyle  (A^1)^-1 =\\left[\\begin{matrix}0.0295506470380937 & 0.0356968764104717\\\\0.0149923948733913 & 0.143477945132835\\end{matrix}\\right]$"
      ],
      "text/plain": [
       "<IPython.core.display.Math object>"
      ]
     },
     "metadata": {},
     "output_type": "display_data"
    },
    {
     "data": {
      "text/latex": [
       "$\\displaystyle  (x_2,y_2) =\\left[\\begin{matrix}0.945620705218998\\\\0.479756635948522\\end{matrix}\\right]$"
      ],
      "text/plain": [
       "<IPython.core.display.Math object>"
      ]
     },
     "metadata": {},
     "output_type": "display_data"
    }
   ],
   "source": [
    "# ---------------------\n",
    "# Broyden's method\n",
    "# Post process method\n",
    "# =====================\n",
    "# calculate gradient at point calculated before\n",
    "display(Math(\"\\\\text{Previous point : } \" + latex(new_point_newton.transpose())))\n",
    "\n",
    "gradient_matrix_new_point = Matrix([\n",
    "    [derivate_x.evalf(subs={x: round(new_point_newton[0], 2), y: round(new_point_newton[1], 2)}),\n",
    "     derivate_y.evalf(subs={x: round(new_point_newton[0], 2), y: round(new_point_newton[1], 2)})],\n",
    "]).transpose()\n",
    "display(Math(\"\\\\text{Gradient at new point: } \\\\nabla f(x_1,y_1)=\" + latex(gradient_matrix_new_point)))\n",
    "\n",
    "# calculate d1\n",
    "d1 = new_point_newton - initial_point\n",
    "display(Math(\"d^1 = x^1 - x^0 =\" + latex(d1)))\n",
    "\n",
    "g1 = gradient_matrix_new_point - gradient_matrix\n",
    "display(Math(\"g^1 = \\\\nabla f(x_1,y_1) - \\\\nabla f(x_0,y_0) =\" + latex(g1)))\n",
    "\n",
    "# returns a constant -> so divide the matrix by a constant not by the matrix itself\n",
    "part_1 = Transpose(d1) * hessian_matrix.inv() * g1\n",
    "A1_1 = hessian_matrix.inv() - (((hessian_matrix.inv() * g1 - d1) *\n",
    "                               Transpose(d1) * hessian_matrix.inv()) * 1 / part_1[0])\n",
    "\n",
    "print(\"divide matrix by: \", part_1[0])\n",
    "display(Math(\" (A^1)^-1 =\" + latex(A1_1)))\n",
    "\n",
    "# calculate next iteration point\n",
    "\n",
    "next_point_broydens = new_point_newton - A1_1 * gradient_matrix_new_point\n",
    "display(Math(\" (x_2,y_2) =\" + latex(next_point_broydens)))"
   ]
  }
 ],
 "metadata": {
  "interpreter": {
   "hash": "31f2aee4e71d21fbe5cf8b01ff0e069b9275f58929596ceb00d14d90e3e16cd6"
  },
  "kernelspec": {
   "display_name": "Python 3 (ipykernel)",
   "language": "python",
   "name": "python3"
  },
  "language_info": {
   "codemirror_mode": {
    "name": "ipython",
    "version": 3
   },
   "file_extension": ".py",
   "mimetype": "text/x-python",
   "name": "python",
   "nbconvert_exporter": "python",
   "pygments_lexer": "ipython3",
   "version": "3.8.10"
  }
 },
 "nbformat": 4,
 "nbformat_minor": 2
}
