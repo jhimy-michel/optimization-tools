{
 "cells": [
  {
   "cell_type": "code",
   "execution_count": null,
   "metadata": {},
   "outputs": [],
   "source": [
    "\"\"\"\n",
    "Testing derivative functions using sympy\n",
    "\"\"\"\n",
    "from sympy import *\n",
    "# Helper function to display in latex format\n",
    "from IPython.display import display, Math\n",
    "\n",
    "x, y = symbols('x y')\n",
    "init_printing(use_unicode=True, use_latex=True)\n",
    "\n",
    "expr = x**4 + y**4\n",
    "initialPoint = (0,0)\n",
    "\n",
    "display(Math('\\\\textbf{Expression: }' + latex(expr)))\n",
    "display(Math(\"\\\\text{ f'(0,0) = %.2f}\" % expr.evalf(\n",
    "    subs={x: initialPoint[0], y: initialPoint[1]})))\n",
    "\n",
    "\n",
    "# Use sympy.Derivative() method\n",
    "derivate_x = diff(expr, x)\n",
    "derivate_y = diff(expr, y)\n",
    "\n",
    "display(Math('\\\\textbf{First derivative respect to X: }' + latex(derivate_x)))\n",
    "display(Math('\\\\textbf{First derivative respect to Y: }' + latex(derivate_y)))\n",
    "\n",
    "derivate_x2 = diff(derivate_x, x)  # second derivative\n",
    "derivate_y2 = diff(derivate_y, y)  # second derivative\n",
    "\n",
    "display(\n",
    "    Math('\\\\textbf{First derivative respect to XX: }' + latex(derivate_x2)))\n",
    "display(\n",
    "    Math('\\\\textbf{First derivative respect to YY: }' + latex(derivate_y2)))\n",
    "\n",
    "derivate_xy = diff(derivate_x, y)  # second derivative\n",
    "derivate_yx = diff(derivate_y, x)  # second derivative\n",
    "\n",
    "display(\n",
    "    Math('\\\\textbf{First derivative respect to XY: }' + latex(derivate_xy)))\n",
    "display(\n",
    "    Math('\\\\textbf{First derivative respect to YX: }' + latex(derivate_yx)))\n",
    "\n",
    "# gradient matrix\n",
    "gradient_matrix = Matrix([\n",
    "    [derivate_x.evalf(subs={x: initialPoint[0], y: initialPoint[1]}), derivate_y.evalf(subs={x: initialPoint[0], y: initialPoint[1]})],\n",
    "]).transpose()\n",
    "display(Math('\\\\text{Gradient matrix =>} \\\\nabla f(x,y):' + latex(gradient_matrix)))\n",
    "\n",
    "\n",
    "# Hessian Matrix\n",
    "hessian_matrix = Matrix([\n",
    "    [derivate_x2.evalf(subs={x: initialPoint[0], y: initialPoint[1]}),\n",
    "     derivate_xy.evalf(subs={x: initialPoint[0], y: initialPoint[1]})],\n",
    "    [derivate_yx.evalf(subs={x: initialPoint[0], y: initialPoint[1]}),\n",
    "     derivate_y2.evalf(subs={x: initialPoint[0], y: initialPoint[1]})]\n",
    "])\n",
    "display(Math('\\\\textbf{Hessian matrix: }' + latex(hessian_matrix)))\n",
    "\n",
    "\n",
    "# ---------------------------\n",
    "# Iteration succesive halving\n",
    "# ---------------------------\n",
    "f_init = expr.evalf(subs={x: initialPoint[0], y: initialPoint[1]})\n",
    "\n",
    "# convert initial point into a matrix for operations\n",
    "initial_point = Matrix([[initialPoint[0], initialPoint[1]]]).transpose()\n",
    "\n",
    "beta_var = 1\n",
    "countBreak = 1\n",
    "\n",
    "display(Math('\\\\textbf{--------- Iterating -------}'))\n",
    "while True:\n",
    "\n",
    "    display(Math('\\\\beta: ' + latex(beta_var)))\n",
    "    point = initial_point - beta_var * gradient_matrix\n",
    "\n",
    "    display(Math('(x1,y1): ' + latex(point)))\n",
    "\n",
    "    x_p = point.row(0).col(0)[0]\n",
    "    y_p = point.row(1).col(0)[0]\n",
    "\n",
    "    f_partial = expr.evalf(subs={x: x_p, y: y_p})\n",
    "    display(Math('f(x1,y1): ' + latex(f_partial)))\n",
    "\n",
    "    if(f_partial < f_init):\n",
    "        display(Math(latex(f_partial)+\" < \"+latex(f_init)))\n",
    "        break\n",
    "    else:\n",
    "        beta_var = beta_var / 2\n",
    "    \n",
    "    countBreak = countBreak + 1\n",
    "    if(countBreak>20):\n",
    "        break\n",
    "\n",
    "\n",
    "display(Math('\\\\textbf{Next iteration point detected!}'))\n",
    "display(Math(\"x^1 =\" + latex(point)))\n"
   ]
  },
  {
   "cell_type": "code",
   "execution_count": null,
   "metadata": {},
   "outputs": [],
   "source": [
    "# ----------------------------------------\n",
    "# Parabola Fitting\n",
    "# P(t) = a*t^2 + b*t + c\n",
    "# Compute P(0), P(beta_var), P(2*beta_var)\n",
    "\n",
    "# defining elements of T\n",
    "t = [0, beta_var, 2*beta_var]\n",
    "valMatrix = 0\n",
    "count = 0\n",
    "\n",
    "# ----\n",
    "p_array = []\n",
    "\n",
    "print(\"-----------------------------------------------\")\n",
    "\n",
    "while False:\n",
    "\n",
    "    if count >= len(t):\n",
    "        break\n",
    "    \n",
    "    display(Math(\"t =\" + latex(t[count])))\n",
    "\n",
    "    valMatrix = initial_point - t[count] * gradient_matrix\n",
    "    display(Math(\"f =\" + latex(valMatrix)))\n",
    "\n",
    "    x_p = valMatrix.row(0).col(0)[0]\n",
    "    y_p = valMatrix.row(1).col(0)[0]\n",
    "\n",
    "    f_partial = expr.evalf(subs={x: x_p, y: y_p})\n",
    "    p_array.append(f_partial)\n",
    "    \n",
    "    display(Math(\"f =\" + latex(f_partial)))\n",
    "\n",
    "    count = count + 1\n",
    "\n",
    "# Compute a, b, c\n",
    "display(Math('\\\\textbf{Values for parabola: }' + latex(p_array)))\n",
    "bet_var = 0.125\n",
    "p_0 = 6\n",
    "p_beta = 3.8\n",
    "p_2_beta = 14.8\n",
    "\n",
    "# calculating beta new\n",
    "beta_new = (beta_var/2) * ((3*p_0 - 4*p_beta +\n",
    "                            p_2_beta)/(p_0 - 2*p_beta+p_2_beta))\n",
    "print(beta_new)\n",
    "display(Math(\"\\\\beta^* = \" + latex(round(beta_new,5) )))\n",
    "\n",
    "valMatrixParabola = initial_point - beta_new * gradient_matrix\n",
    "display(Math(\"x_1,y_1 = \" + latex(valMatrixParabola)))\n",
    "\n",
    "x_p2 = valMatrixParabola.row(0).col(0)[0]\n",
    "y_p2 = valMatrixParabola.row(1).col(0)[0]\n",
    "\n",
    "parabolaEval = expr.evalf(subs={x: x_p2, y: y_p2})\n",
    "display(Math(\"f(\"+ latex(x_p2)+\",\"+ latex(y_p2)+\") = \" + latex(parabolaEval)))\n",
    "\n",
    "if(parabolaEval < f_partial):\n",
    "    display(Math('\\\\textbf{Next iteration point : } x^1 = (x_1,y_1) =' + latex(parabolaEval)))\n",
    "\n"
   ]
  },
  {
   "cell_type": "code",
   "execution_count": 25,
   "metadata": {},
   "outputs": [
    {
     "data": {
      "text/latex": [
       "$\\displaystyle \\textbf{Expression: }\\left(0.5 x - y\\right)^{4} + \\left(y - 1\\right)^{2}$"
      ],
      "text/plain": [
       "<IPython.core.display.Math object>"
      ]
     },
     "metadata": {},
     "output_type": "display_data"
    },
    {
     "data": {
      "text/latex": [
       "$\\displaystyle \\text{ f'(0,0) = 3.41}$"
      ],
      "text/plain": [
       "<IPython.core.display.Math object>"
      ]
     },
     "metadata": {},
     "output_type": "display_data"
    },
    {
     "data": {
      "text/latex": [
       "$\\displaystyle \\textbf{First derivative respect to X: }2.0 \\left(0.5 x - y\\right)^{3}$"
      ],
      "text/plain": [
       "<IPython.core.display.Math object>"
      ]
     },
     "metadata": {},
     "output_type": "display_data"
    },
    {
     "data": {
      "text/latex": [
       "$\\displaystyle \\textbf{First derivative respect to Y: }2 y - 4 \\left(0.5 x - y\\right)^{3} - 2$"
      ],
      "text/plain": [
       "<IPython.core.display.Math object>"
      ]
     },
     "metadata": {},
     "output_type": "display_data"
    },
    {
     "data": {
      "text/latex": [
       "$\\displaystyle \\textbf{First derivative respect to XX: }3.0 \\left(0.5 x - y\\right)^{2}$"
      ],
      "text/plain": [
       "<IPython.core.display.Math object>"
      ]
     },
     "metadata": {},
     "output_type": "display_data"
    },
    {
     "data": {
      "text/latex": [
       "$\\displaystyle \\textbf{First derivative respect to YY: }12 \\left(0.5 x - y\\right)^{2} + 2$"
      ],
      "text/plain": [
       "<IPython.core.display.Math object>"
      ]
     },
     "metadata": {},
     "output_type": "display_data"
    },
    {
     "data": {
      "text/latex": [
       "$\\displaystyle \\textbf{First derivative respect to XY: }- 6.0 \\left(0.5 x - y\\right)^{2}$"
      ],
      "text/plain": [
       "<IPython.core.display.Math object>"
      ]
     },
     "metadata": {},
     "output_type": "display_data"
    },
    {
     "data": {
      "text/latex": [
       "$\\displaystyle \\textbf{First derivative respect to YX: }- 6.0 \\left(0.5 x - y\\right)^{2}$"
      ],
      "text/plain": [
       "<IPython.core.display.Math object>"
      ]
     },
     "metadata": {},
     "output_type": "display_data"
    },
    {
     "data": {
      "text/latex": [
       "$\\displaystyle \\text{Gradient matrix =>} \\nabla f(x,y):\\left[\\begin{matrix}4.92075\\\\-9.2415\\end{matrix}\\right]$"
      ],
      "text/plain": [
       "<IPython.core.display.Math object>"
      ]
     },
     "metadata": {},
     "output_type": "display_data"
    },
    {
     "data": {
      "text/latex": [
       "$\\displaystyle \\textbf{Hessian matrix: }\\left[\\begin{matrix}5.4675 & -10.935\\\\-10.935 & 23.87\\end{matrix}\\right]$"
      ],
      "text/plain": [
       "<IPython.core.display.Math object>"
      ]
     },
     "metadata": {},
     "output_type": "display_data"
    },
    {
     "data": {
      "text/latex": [
       "$\\displaystyle \\text{Hessian matrix2:} \\left[\\begin{matrix}2.18289894833105 & 1.0\\\\1.0 & 0.5\\end{matrix}\\right]$"
      ],
      "text/plain": [
       "<IPython.core.display.Math object>"
      ]
     },
     "metadata": {},
     "output_type": "display_data"
    },
    {
     "data": {
      "text/latex": [
       "$\\displaystyle \\text{New newton point:} \\left[\\begin{matrix}-1.5\\\\-0.3\\end{matrix}\\right]$"
      ],
      "text/plain": [
       "<IPython.core.display.Math object>"
      ]
     },
     "metadata": {},
     "output_type": "display_data"
    }
   ],
   "source": [
    "# -----------------\n",
    "# Newton's method\n",
    "# =================\n",
    "\"\"\"\n",
    "Testing derivative functions using sympy\n",
    "\"\"\"\n",
    "from sympy import *\n",
    "# Helper function to display in latex format\n",
    "from IPython.display import display, Math\n",
    "\n",
    "x, y = symbols('x y')\n",
    "init_printing(use_unicode=True, use_latex=True)\n",
    "\n",
    "expr = (0.5*x-y)**4 + (y -1 )**2\n",
    "initialPoint = (5.3,1.3)\n",
    "\n",
    "display(Math('\\\\textbf{Expression: }' + latex(expr)))\n",
    "display(Math(\"\\\\text{ f'(0,0) = %.2f}\" % expr.evalf(\n",
    "    subs={x: initialPoint[0], y: initialPoint[1]})))\n",
    "\n",
    "\n",
    "# Use sympy.Derivative() method\n",
    "derivate_x = diff(expr, x)\n",
    "derivate_y = diff(expr, y)\n",
    "\n",
    "display(Math('\\\\textbf{First derivative respect to X: }' + latex(derivate_x)))\n",
    "display(Math('\\\\textbf{First derivative respect to Y: }' + latex(derivate_y)))\n",
    "\n",
    "derivate_x2 = diff(derivate_x, x)  # second derivative\n",
    "derivate_y2 = diff(derivate_y, y)  # second derivative\n",
    "\n",
    "display(\n",
    "    Math('\\\\textbf{First derivative respect to XX: }' + latex(derivate_x2)))\n",
    "display(\n",
    "    Math('\\\\textbf{First derivative respect to YY: }' + latex(derivate_y2)))\n",
    "\n",
    "derivate_xy = diff(derivate_x, y)  # second derivative\n",
    "derivate_yx = diff(derivate_y, x)  # second derivative\n",
    "\n",
    "display(\n",
    "    Math('\\\\textbf{First derivative respect to XY: }' + latex(derivate_xy)))\n",
    "display(\n",
    "    Math('\\\\textbf{First derivative respect to YX: }' + latex(derivate_yx)))\n",
    "\n",
    "# gradient matrix\n",
    "gradient_matrix = Matrix([\n",
    "    [derivate_x.evalf(subs={x: initialPoint[0], y: initialPoint[1]}), derivate_y.evalf(subs={x: initialPoint[0], y: initialPoint[1]})],\n",
    "]).transpose()\n",
    "display(Math('\\\\text{Gradient matrix =>} \\\\nabla f(x,y):' + latex(gradient_matrix)))\n",
    "\n",
    "\n",
    "# Hessian Matrix\n",
    "hessian_matrix = Matrix([\n",
    "    [derivate_x2.evalf(subs={x: initialPoint[0], y: initialPoint[1]}),\n",
    "     derivate_xy.evalf(subs={x: initialPoint[0], y: initialPoint[1]})],\n",
    "    [derivate_yx.evalf(subs={x: initialPoint[0], y: initialPoint[1]}),\n",
    "     derivate_y2.evalf(subs={x: initialPoint[0], y: initialPoint[1]})]\n",
    "])\n",
    "display(Math('\\\\textbf{Hessian matrix: }' + latex(hessian_matrix)))\n",
    "display(Math(\"\\\\text{Hessian matrix2:} \" + latex(hessian_matrix.inv())))\n",
    "\n",
    "# I need the gradient matrix\n",
    "# I need to evaluate the fucntions\n",
    "new_point_newton = initial_point - hessian_matrix.inv() * gradient_matrix\n",
    "display(Math(\"\\\\text{New newton point:} \" + latex(new_point_newton)))"
   ]
  },
  {
   "cell_type": "code",
   "execution_count": 27,
   "metadata": {},
   "outputs": [
    {
     "data": {
      "text/latex": [
       "$\\displaystyle \\text{Previous point : } \\left[\\begin{matrix}-1.5 & -0.3\\end{matrix}\\right]$"
      ],
      "text/plain": [
       "<IPython.core.display.Math object>"
      ]
     },
     "metadata": {},
     "output_type": "display_data"
    },
    {
     "name": "stdout",
     "output_type": "stream",
     "text": [
      "Matrix([[-1.50000000000000], [-0.300000000000000]])\n"
     ]
    },
    {
     "data": {
      "text/latex": [
       "$\\displaystyle \\text{Gradient at new point: } \\nabla f(x_1,y_1)=\\left[\\begin{matrix}-0.182487407699227\\\\-2.23463455960155\\end{matrix}\\right]$"
      ],
      "text/plain": [
       "<IPython.core.display.Math object>"
      ]
     },
     "metadata": {},
     "output_type": "display_data"
    },
    {
     "data": {
      "text/latex": [
       "$\\displaystyle d^1 = x^1 - x^0 =\\left[\\begin{matrix}-1.5\\\\-0.3\\end{matrix}\\right]$"
      ],
      "text/plain": [
       "<IPython.core.display.Math object>"
      ]
     },
     "metadata": {},
     "output_type": "display_data"
    },
    {
     "data": {
      "text/latex": [
       "$\\displaystyle g^1 = \\nabla f(x_1,y_1) - \\nabla f(x_0,y_0) =\\left[\\begin{matrix}-5.10323740769923\\\\7.00686544039845\\end{matrix}\\right]$"
      ],
      "text/plain": [
       "<IPython.core.display.Math object>"
      ]
     },
     "metadata": {},
     "output_type": "display_data"
    },
    {
     "name": "stdout",
     "output_type": "stream",
     "text": [
      "divide matrix by:  6.67942060117777\n"
     ]
    },
    {
     "data": {
      "text/latex": [
       "$\\displaystyle  (A^1)^-1 =\\left[\\begin{matrix}0.773912992514869 & 0.349580244481909\\\\0.304437448736188 & 0.178912608977367\\end{matrix}\\right]$"
      ],
      "text/plain": [
       "<IPython.core.display.Math object>"
      ]
     },
     "metadata": {},
     "output_type": "display_data"
    },
    {
     "data": {
      "text/latex": [
       "$\\displaystyle  (x_2,y_2) =\\left[\\begin{matrix}-0.577586528537979\\\\0.155360299995735\\end{matrix}\\right]$"
      ],
      "text/plain": [
       "<IPython.core.display.Math object>"
      ]
     },
     "metadata": {},
     "output_type": "display_data"
    }
   ],
   "source": [
    "# ---------------------\n",
    "# Broyden's method\n",
    "# Post process method\n",
    "# =====================\n",
    "# calculate gradient at point calculated before\n",
    "display(Math(\"\\\\text{Previous point : } \" + latex(new_point_newton.transpose())))\n",
    "print(new_point_newton)\n",
    "\n",
    "gradient_matrix_new_point = Matrix([\n",
    "    [derivate_x.evalf(subs={x: round(new_point_newton[0], 2), y: round(new_point_newton[1], 2)}),\n",
    "     derivate_y.evalf(subs={x: round(new_point_newton[0], 2), y: round(new_point_newton[1], 2)})],\n",
    "]).transpose()\n",
    "display(Math(\"\\\\text{Gradient at new point: } \\\\nabla f(x_1,y_1)=\" + latex(gradient_matrix_new_point)))\n",
    "\n",
    "# calculate d1\n",
    "d1 = Matrix([[-2.7],[2]]) - Matrix([[2.3,2],[]])\n",
    "display(Math(\"d^1 = x^1 - x^0 =\" + latex(d1)))\n",
    "\n",
    "g1 = gradient_matrix_new_point - gradient_matrix\n",
    "display(Math(\"g^1 = \\\\nabla f(x_1,y_1) - \\\\nabla f(x_0,y_0) =\" + latex(g1)))\n",
    "\n",
    "# returns a constant -> so divide the matrix by a constant not by the matrix itself\n",
    "part_1 = Transpose(d1) * hessian_matrix.inv() * g1\n",
    "A1_1 = hessian_matrix.inv() - (((hessian_matrix.inv() * g1 - d1) *\n",
    "                               Transpose(d1) * hessian_matrix.inv()) * 1 / part_1[0])\n",
    "\n",
    "print(\"divide matrix by: \", part_1[0])\n",
    "display(Math(\" (A^1)^-1 =\" + latex(A1_1)))\n",
    "\n",
    "# calculate next iteration point\n",
    "\n",
    "next_point_broydens = new_point_newton - A1_1 * gradient_matrix_new_point\n",
    "display(Math(\" (x_2,y_2) =\" + latex(next_point_broydens)))"
   ]
  }
 ],
 "metadata": {
  "interpreter": {
   "hash": "31f2aee4e71d21fbe5cf8b01ff0e069b9275f58929596ceb00d14d90e3e16cd6"
  },
  "kernelspec": {
   "display_name": "Python 3 (ipykernel)",
   "language": "python",
   "name": "python3"
  },
  "language_info": {
   "codemirror_mode": {
    "name": "ipython",
    "version": 3
   },
   "file_extension": ".py",
   "mimetype": "text/x-python",
   "name": "python",
   "nbconvert_exporter": "python",
   "pygments_lexer": "ipython3",
   "version": "3.8.10"
  }
 },
 "nbformat": 4,
 "nbformat_minor": 2
}
